{
  "nbformat": 4,
  "nbformat_minor": 0,
  "metadata": {
    "colab": {
      "name": "Classification_Churn_ANN_udemy_Kaggle.ipynb",
      "provenance": [],
      "collapsed_sections": [],
      "toc_visible": true,
      "include_colab_link": true
    },
    "kernelspec": {
      "name": "python3",
      "display_name": "Python 3"
    }
  },
  "cells": [
    {
      "cell_type": "markdown",
      "metadata": {
        "id": "view-in-github",
        "colab_type": "text"
      },
      "source": [
        "<a href=\"https://colab.research.google.com/github/youkjang/Machine-Learning-Deep-Learning-Practice/blob/main/Classification_Churn_ANN_udemy_Kaggle.ipynb\" target=\"_parent\"><img src=\"https://colab.research.google.com/assets/colab-badge.svg\" alt=\"Open In Colab\"/></a>"
      ]
    },
    {
      "cell_type": "markdown",
      "metadata": {
        "id": "lP6JLo1tGNBg"
      },
      "source": [
        "# Artificial Neural Network\n",
        "##  Binary Classification\n",
        "\n",
        "* **Problem**: The bank noticed the high Churn rate.\n",
        "* **Data**: The bank collected the information of 1000 customers and waited 6 months to see if which customers leave the bank. This data and problem were created by the Udemy course.\n",
        "* **Articial Neural Network** is used to predict if customers leave the bank.\n",
        "\n",
        "* This notebook is based on the Udemy course (Machine Learning A-Z™: Hands-On Python & R In Data Science) https://www.udemy.com/ and Kaggle micro course (Intro to Deep Learning) https://www.kaggle.com/learn/intro-to-deep-learning.\n",
        " \n",
        "\n"
      ]
    },
    {
      "cell_type": "markdown",
      "metadata": {
        "id": "gWZyYmS_UE_L"
      },
      "source": [
        "### Importing the libraries"
      ]
    },
    {
      "cell_type": "code",
      "metadata": {
        "id": "KKVNqu97PXG5"
      },
      "source": [
        "import numpy as np\n",
        "import pandas as pd\n",
        "import tensorflow as tf"
      ],
      "execution_count": 1,
      "outputs": []
    },
    {
      "cell_type": "markdown",
      "metadata": {
        "id": "1E0Q3aoKUCRX"
      },
      "source": [
        "## Part 1 - Data Preprocessing"
      ]
    },
    {
      "cell_type": "markdown",
      "metadata": {
        "id": "cKWAkFVGUU0Z"
      },
      "source": [
        "### Importing the dataset"
      ]
    },
    {
      "cell_type": "code",
      "metadata": {
        "id": "ge7UapywPY3A",
        "colab": {
          "base_uri": "https://localhost:8080/",
          "height": 215
        },
        "outputId": "82ff88c4-dd40-4153-bf7e-031cd379d1bb"
      },
      "source": [
        "dataset = pd.read_csv('Churn_Modelling.csv')\n",
        "dataset.head()"
      ],
      "execution_count": 2,
      "outputs": [
        {
          "output_type": "execute_result",
          "data": {
            "text/html": [
              "<div>\n",
              "<style scoped>\n",
              "    .dataframe tbody tr th:only-of-type {\n",
              "        vertical-align: middle;\n",
              "    }\n",
              "\n",
              "    .dataframe tbody tr th {\n",
              "        vertical-align: top;\n",
              "    }\n",
              "\n",
              "    .dataframe thead th {\n",
              "        text-align: right;\n",
              "    }\n",
              "</style>\n",
              "<table border=\"1\" class=\"dataframe\">\n",
              "  <thead>\n",
              "    <tr style=\"text-align: right;\">\n",
              "      <th></th>\n",
              "      <th>RowNumber</th>\n",
              "      <th>CustomerId</th>\n",
              "      <th>Surname</th>\n",
              "      <th>CreditScore</th>\n",
              "      <th>Geography</th>\n",
              "      <th>Gender</th>\n",
              "      <th>Age</th>\n",
              "      <th>Tenure</th>\n",
              "      <th>Balance</th>\n",
              "      <th>NumOfProducts</th>\n",
              "      <th>HasCrCard</th>\n",
              "      <th>IsActiveMember</th>\n",
              "      <th>EstimatedSalary</th>\n",
              "      <th>Exited</th>\n",
              "    </tr>\n",
              "  </thead>\n",
              "  <tbody>\n",
              "    <tr>\n",
              "      <th>0</th>\n",
              "      <td>1</td>\n",
              "      <td>15634602</td>\n",
              "      <td>Hargrave</td>\n",
              "      <td>619</td>\n",
              "      <td>France</td>\n",
              "      <td>Female</td>\n",
              "      <td>42</td>\n",
              "      <td>2</td>\n",
              "      <td>0.00</td>\n",
              "      <td>1</td>\n",
              "      <td>1</td>\n",
              "      <td>1</td>\n",
              "      <td>101348.88</td>\n",
              "      <td>1</td>\n",
              "    </tr>\n",
              "    <tr>\n",
              "      <th>1</th>\n",
              "      <td>2</td>\n",
              "      <td>15647311</td>\n",
              "      <td>Hill</td>\n",
              "      <td>608</td>\n",
              "      <td>Spain</td>\n",
              "      <td>Female</td>\n",
              "      <td>41</td>\n",
              "      <td>1</td>\n",
              "      <td>83807.86</td>\n",
              "      <td>1</td>\n",
              "      <td>0</td>\n",
              "      <td>1</td>\n",
              "      <td>112542.58</td>\n",
              "      <td>0</td>\n",
              "    </tr>\n",
              "    <tr>\n",
              "      <th>2</th>\n",
              "      <td>3</td>\n",
              "      <td>15619304</td>\n",
              "      <td>Onio</td>\n",
              "      <td>502</td>\n",
              "      <td>France</td>\n",
              "      <td>Female</td>\n",
              "      <td>42</td>\n",
              "      <td>8</td>\n",
              "      <td>159660.80</td>\n",
              "      <td>3</td>\n",
              "      <td>1</td>\n",
              "      <td>0</td>\n",
              "      <td>113931.57</td>\n",
              "      <td>1</td>\n",
              "    </tr>\n",
              "    <tr>\n",
              "      <th>3</th>\n",
              "      <td>4</td>\n",
              "      <td>15701354</td>\n",
              "      <td>Boni</td>\n",
              "      <td>699</td>\n",
              "      <td>France</td>\n",
              "      <td>Female</td>\n",
              "      <td>39</td>\n",
              "      <td>1</td>\n",
              "      <td>0.00</td>\n",
              "      <td>2</td>\n",
              "      <td>0</td>\n",
              "      <td>0</td>\n",
              "      <td>93826.63</td>\n",
              "      <td>0</td>\n",
              "    </tr>\n",
              "    <tr>\n",
              "      <th>4</th>\n",
              "      <td>5</td>\n",
              "      <td>15737888</td>\n",
              "      <td>Mitchell</td>\n",
              "      <td>850</td>\n",
              "      <td>Spain</td>\n",
              "      <td>Female</td>\n",
              "      <td>43</td>\n",
              "      <td>2</td>\n",
              "      <td>125510.82</td>\n",
              "      <td>1</td>\n",
              "      <td>1</td>\n",
              "      <td>1</td>\n",
              "      <td>79084.10</td>\n",
              "      <td>0</td>\n",
              "    </tr>\n",
              "  </tbody>\n",
              "</table>\n",
              "</div>"
            ],
            "text/plain": [
              "   RowNumber  CustomerId   Surname  ...  IsActiveMember EstimatedSalary Exited\n",
              "0          1    15634602  Hargrave  ...               1       101348.88      1\n",
              "1          2    15647311      Hill  ...               1       112542.58      0\n",
              "2          3    15619304      Onio  ...               0       113931.57      1\n",
              "3          4    15701354      Boni  ...               0        93826.63      0\n",
              "4          5    15737888  Mitchell  ...               1        79084.10      0\n",
              "\n",
              "[5 rows x 14 columns]"
            ]
          },
          "metadata": {
            "tags": []
          },
          "execution_count": 2
        }
      ]
    },
    {
      "cell_type": "markdown",
      "metadata": {
        "id": "Gly6s88xyz11"
      },
      "source": [
        "### Selecting features for X and y"
      ]
    },
    {
      "cell_type": "code",
      "metadata": {
        "id": "Ugo9q0l2xw47",
        "colab": {
          "base_uri": "https://localhost:8080/"
        },
        "outputId": "cc6d1e17-31b6-4a3b-ac8e-4fa0fd38af07"
      },
      "source": [
        "col_list = ['CreditScore','Geography','Gender','Age','Tenure','Balance',\n",
        "            'NumOfProducts','HasCrCard','IsActiveMember','EstimatedSalary']\n",
        "X = dataset[col_list]\n",
        "y = dataset['Exited']\n",
        "\n",
        "X.shape, y.shape"
      ],
      "execution_count": 29,
      "outputs": [
        {
          "output_type": "execute_result",
          "data": {
            "text/plain": [
              "((10000, 10), (10000,))"
            ]
          },
          "metadata": {
            "tags": []
          },
          "execution_count": 29
        }
      ]
    },
    {
      "cell_type": "markdown",
      "metadata": {
        "id": "N6bQ0UgSU-NJ"
      },
      "source": [
        "### Encoding categorical data"
      ]
    },
    {
      "cell_type": "markdown",
      "metadata": {
        "id": "le5MJreAbW52"
      },
      "source": [
        "Label Encoding the \"Gender\" column"
      ]
    },
    {
      "cell_type": "code",
      "metadata": {
        "id": "3HEcAUAbParC",
        "colab": {
          "base_uri": "https://localhost:8080/"
        },
        "outputId": "e00446ea-69b1-47e7-9fad-b797a7ac2fde"
      },
      "source": [
        "from sklearn.preprocessing import LabelEncoder\n",
        "le = LabelEncoder()\n",
        "X['Gender'] = le.fit_transform(X['Gender'])"
      ],
      "execution_count": 7,
      "outputs": [
        {
          "output_type": "stream",
          "text": [
            "/usr/local/lib/python3.6/dist-packages/ipykernel_launcher.py:3: SettingWithCopyWarning: \n",
            "A value is trying to be set on a copy of a slice from a DataFrame.\n",
            "Try using .loc[row_indexer,col_indexer] = value instead\n",
            "\n",
            "See the caveats in the documentation: https://pandas.pydata.org/pandas-docs/stable/user_guide/indexing.html#returning-a-view-versus-a-copy\n",
            "  This is separate from the ipykernel package so we can avoid doing imports until\n"
          ],
          "name": "stderr"
        }
      ]
    },
    {
      "cell_type": "code",
      "metadata": {
        "id": "-M1KboxFb6OO",
        "colab": {
          "base_uri": "https://localhost:8080/",
          "height": 284
        },
        "outputId": "4c519034-458a-484e-8b2f-21885e67c75b"
      },
      "source": [
        "X.describe()"
      ],
      "execution_count": 39,
      "outputs": [
        {
          "output_type": "execute_result",
          "data": {
            "text/html": [
              "<div>\n",
              "<style scoped>\n",
              "    .dataframe tbody tr th:only-of-type {\n",
              "        vertical-align: middle;\n",
              "    }\n",
              "\n",
              "    .dataframe tbody tr th {\n",
              "        vertical-align: top;\n",
              "    }\n",
              "\n",
              "    .dataframe thead th {\n",
              "        text-align: right;\n",
              "    }\n",
              "</style>\n",
              "<table border=\"1\" class=\"dataframe\">\n",
              "  <thead>\n",
              "    <tr style=\"text-align: right;\">\n",
              "      <th></th>\n",
              "      <th>CreditScore</th>\n",
              "      <th>Age</th>\n",
              "      <th>Tenure</th>\n",
              "      <th>Balance</th>\n",
              "      <th>NumOfProducts</th>\n",
              "      <th>HasCrCard</th>\n",
              "      <th>IsActiveMember</th>\n",
              "      <th>EstimatedSalary</th>\n",
              "    </tr>\n",
              "  </thead>\n",
              "  <tbody>\n",
              "    <tr>\n",
              "      <th>count</th>\n",
              "      <td>10000.000000</td>\n",
              "      <td>10000.000000</td>\n",
              "      <td>10000.000000</td>\n",
              "      <td>10000.000000</td>\n",
              "      <td>10000.000000</td>\n",
              "      <td>10000.00000</td>\n",
              "      <td>10000.000000</td>\n",
              "      <td>10000.000000</td>\n",
              "    </tr>\n",
              "    <tr>\n",
              "      <th>mean</th>\n",
              "      <td>650.528800</td>\n",
              "      <td>38.921800</td>\n",
              "      <td>5.012800</td>\n",
              "      <td>76485.889288</td>\n",
              "      <td>1.530200</td>\n",
              "      <td>0.70550</td>\n",
              "      <td>0.515100</td>\n",
              "      <td>100090.239881</td>\n",
              "    </tr>\n",
              "    <tr>\n",
              "      <th>std</th>\n",
              "      <td>96.653299</td>\n",
              "      <td>10.487806</td>\n",
              "      <td>2.892174</td>\n",
              "      <td>62397.405202</td>\n",
              "      <td>0.581654</td>\n",
              "      <td>0.45584</td>\n",
              "      <td>0.499797</td>\n",
              "      <td>57510.492818</td>\n",
              "    </tr>\n",
              "    <tr>\n",
              "      <th>min</th>\n",
              "      <td>350.000000</td>\n",
              "      <td>18.000000</td>\n",
              "      <td>0.000000</td>\n",
              "      <td>0.000000</td>\n",
              "      <td>1.000000</td>\n",
              "      <td>0.00000</td>\n",
              "      <td>0.000000</td>\n",
              "      <td>11.580000</td>\n",
              "    </tr>\n",
              "    <tr>\n",
              "      <th>25%</th>\n",
              "      <td>584.000000</td>\n",
              "      <td>32.000000</td>\n",
              "      <td>3.000000</td>\n",
              "      <td>0.000000</td>\n",
              "      <td>1.000000</td>\n",
              "      <td>0.00000</td>\n",
              "      <td>0.000000</td>\n",
              "      <td>51002.110000</td>\n",
              "    </tr>\n",
              "    <tr>\n",
              "      <th>50%</th>\n",
              "      <td>652.000000</td>\n",
              "      <td>37.000000</td>\n",
              "      <td>5.000000</td>\n",
              "      <td>97198.540000</td>\n",
              "      <td>1.000000</td>\n",
              "      <td>1.00000</td>\n",
              "      <td>1.000000</td>\n",
              "      <td>100193.915000</td>\n",
              "    </tr>\n",
              "    <tr>\n",
              "      <th>75%</th>\n",
              "      <td>718.000000</td>\n",
              "      <td>44.000000</td>\n",
              "      <td>7.000000</td>\n",
              "      <td>127644.240000</td>\n",
              "      <td>2.000000</td>\n",
              "      <td>1.00000</td>\n",
              "      <td>1.000000</td>\n",
              "      <td>149388.247500</td>\n",
              "    </tr>\n",
              "    <tr>\n",
              "      <th>max</th>\n",
              "      <td>850.000000</td>\n",
              "      <td>92.000000</td>\n",
              "      <td>10.000000</td>\n",
              "      <td>250898.090000</td>\n",
              "      <td>4.000000</td>\n",
              "      <td>1.00000</td>\n",
              "      <td>1.000000</td>\n",
              "      <td>199992.480000</td>\n",
              "    </tr>\n",
              "  </tbody>\n",
              "</table>\n",
              "</div>"
            ],
            "text/plain": [
              "        CreditScore           Age  ...  IsActiveMember  EstimatedSalary\n",
              "count  10000.000000  10000.000000  ...    10000.000000     10000.000000\n",
              "mean     650.528800     38.921800  ...        0.515100    100090.239881\n",
              "std       96.653299     10.487806  ...        0.499797     57510.492818\n",
              "min      350.000000     18.000000  ...        0.000000        11.580000\n",
              "25%      584.000000     32.000000  ...        0.000000     51002.110000\n",
              "50%      652.000000     37.000000  ...        1.000000    100193.915000\n",
              "75%      718.000000     44.000000  ...        1.000000    149388.247500\n",
              "max      850.000000     92.000000  ...        1.000000    199992.480000\n",
              "\n",
              "[8 rows x 8 columns]"
            ]
          },
          "metadata": {
            "tags": []
          },
          "execution_count": 39
        }
      ]
    },
    {
      "cell_type": "markdown",
      "metadata": {
        "id": "CUxGZezpbMcb"
      },
      "source": [
        "One Hot Encoding the \"Geography\" column"
      ]
    },
    {
      "cell_type": "code",
      "metadata": {
        "id": "8MjtOkIxPcik"
      },
      "source": [
        "X = pd.get_dummies(X)"
      ],
      "execution_count": 41,
      "outputs": []
    },
    {
      "cell_type": "code",
      "metadata": {
        "id": "ZcxwEon-b8nV",
        "colab": {
          "base_uri": "https://localhost:8080/",
          "height": 422
        },
        "outputId": "e476efe0-108d-4ba6-efe6-afdf4166db9c"
      },
      "source": [
        "X"
      ],
      "execution_count": 10,
      "outputs": [
        {
          "output_type": "execute_result",
          "data": {
            "text/html": [
              "<div>\n",
              "<style scoped>\n",
              "    .dataframe tbody tr th:only-of-type {\n",
              "        vertical-align: middle;\n",
              "    }\n",
              "\n",
              "    .dataframe tbody tr th {\n",
              "        vertical-align: top;\n",
              "    }\n",
              "\n",
              "    .dataframe thead th {\n",
              "        text-align: right;\n",
              "    }\n",
              "</style>\n",
              "<table border=\"1\" class=\"dataframe\">\n",
              "  <thead>\n",
              "    <tr style=\"text-align: right;\">\n",
              "      <th></th>\n",
              "      <th>CreditScore</th>\n",
              "      <th>Gender</th>\n",
              "      <th>Age</th>\n",
              "      <th>Tenure</th>\n",
              "      <th>Balance</th>\n",
              "      <th>NumOfProducts</th>\n",
              "      <th>HasCrCard</th>\n",
              "      <th>IsActiveMember</th>\n",
              "      <th>EstimatedSalary</th>\n",
              "      <th>Geography_France</th>\n",
              "      <th>Geography_Germany</th>\n",
              "      <th>Geography_Spain</th>\n",
              "    </tr>\n",
              "  </thead>\n",
              "  <tbody>\n",
              "    <tr>\n",
              "      <th>0</th>\n",
              "      <td>619</td>\n",
              "      <td>0</td>\n",
              "      <td>42</td>\n",
              "      <td>2</td>\n",
              "      <td>0.00</td>\n",
              "      <td>1</td>\n",
              "      <td>1</td>\n",
              "      <td>1</td>\n",
              "      <td>101348.88</td>\n",
              "      <td>1</td>\n",
              "      <td>0</td>\n",
              "      <td>0</td>\n",
              "    </tr>\n",
              "    <tr>\n",
              "      <th>1</th>\n",
              "      <td>608</td>\n",
              "      <td>0</td>\n",
              "      <td>41</td>\n",
              "      <td>1</td>\n",
              "      <td>83807.86</td>\n",
              "      <td>1</td>\n",
              "      <td>0</td>\n",
              "      <td>1</td>\n",
              "      <td>112542.58</td>\n",
              "      <td>0</td>\n",
              "      <td>0</td>\n",
              "      <td>1</td>\n",
              "    </tr>\n",
              "    <tr>\n",
              "      <th>2</th>\n",
              "      <td>502</td>\n",
              "      <td>0</td>\n",
              "      <td>42</td>\n",
              "      <td>8</td>\n",
              "      <td>159660.80</td>\n",
              "      <td>3</td>\n",
              "      <td>1</td>\n",
              "      <td>0</td>\n",
              "      <td>113931.57</td>\n",
              "      <td>1</td>\n",
              "      <td>0</td>\n",
              "      <td>0</td>\n",
              "    </tr>\n",
              "    <tr>\n",
              "      <th>3</th>\n",
              "      <td>699</td>\n",
              "      <td>0</td>\n",
              "      <td>39</td>\n",
              "      <td>1</td>\n",
              "      <td>0.00</td>\n",
              "      <td>2</td>\n",
              "      <td>0</td>\n",
              "      <td>0</td>\n",
              "      <td>93826.63</td>\n",
              "      <td>1</td>\n",
              "      <td>0</td>\n",
              "      <td>0</td>\n",
              "    </tr>\n",
              "    <tr>\n",
              "      <th>4</th>\n",
              "      <td>850</td>\n",
              "      <td>0</td>\n",
              "      <td>43</td>\n",
              "      <td>2</td>\n",
              "      <td>125510.82</td>\n",
              "      <td>1</td>\n",
              "      <td>1</td>\n",
              "      <td>1</td>\n",
              "      <td>79084.10</td>\n",
              "      <td>0</td>\n",
              "      <td>0</td>\n",
              "      <td>1</td>\n",
              "    </tr>\n",
              "    <tr>\n",
              "      <th>...</th>\n",
              "      <td>...</td>\n",
              "      <td>...</td>\n",
              "      <td>...</td>\n",
              "      <td>...</td>\n",
              "      <td>...</td>\n",
              "      <td>...</td>\n",
              "      <td>...</td>\n",
              "      <td>...</td>\n",
              "      <td>...</td>\n",
              "      <td>...</td>\n",
              "      <td>...</td>\n",
              "      <td>...</td>\n",
              "    </tr>\n",
              "    <tr>\n",
              "      <th>9995</th>\n",
              "      <td>771</td>\n",
              "      <td>1</td>\n",
              "      <td>39</td>\n",
              "      <td>5</td>\n",
              "      <td>0.00</td>\n",
              "      <td>2</td>\n",
              "      <td>1</td>\n",
              "      <td>0</td>\n",
              "      <td>96270.64</td>\n",
              "      <td>1</td>\n",
              "      <td>0</td>\n",
              "      <td>0</td>\n",
              "    </tr>\n",
              "    <tr>\n",
              "      <th>9996</th>\n",
              "      <td>516</td>\n",
              "      <td>1</td>\n",
              "      <td>35</td>\n",
              "      <td>10</td>\n",
              "      <td>57369.61</td>\n",
              "      <td>1</td>\n",
              "      <td>1</td>\n",
              "      <td>1</td>\n",
              "      <td>101699.77</td>\n",
              "      <td>1</td>\n",
              "      <td>0</td>\n",
              "      <td>0</td>\n",
              "    </tr>\n",
              "    <tr>\n",
              "      <th>9997</th>\n",
              "      <td>709</td>\n",
              "      <td>0</td>\n",
              "      <td>36</td>\n",
              "      <td>7</td>\n",
              "      <td>0.00</td>\n",
              "      <td>1</td>\n",
              "      <td>0</td>\n",
              "      <td>1</td>\n",
              "      <td>42085.58</td>\n",
              "      <td>1</td>\n",
              "      <td>0</td>\n",
              "      <td>0</td>\n",
              "    </tr>\n",
              "    <tr>\n",
              "      <th>9998</th>\n",
              "      <td>772</td>\n",
              "      <td>1</td>\n",
              "      <td>42</td>\n",
              "      <td>3</td>\n",
              "      <td>75075.31</td>\n",
              "      <td>2</td>\n",
              "      <td>1</td>\n",
              "      <td>0</td>\n",
              "      <td>92888.52</td>\n",
              "      <td>0</td>\n",
              "      <td>1</td>\n",
              "      <td>0</td>\n",
              "    </tr>\n",
              "    <tr>\n",
              "      <th>9999</th>\n",
              "      <td>792</td>\n",
              "      <td>0</td>\n",
              "      <td>28</td>\n",
              "      <td>4</td>\n",
              "      <td>130142.79</td>\n",
              "      <td>1</td>\n",
              "      <td>1</td>\n",
              "      <td>0</td>\n",
              "      <td>38190.78</td>\n",
              "      <td>1</td>\n",
              "      <td>0</td>\n",
              "      <td>0</td>\n",
              "    </tr>\n",
              "  </tbody>\n",
              "</table>\n",
              "<p>10000 rows × 12 columns</p>\n",
              "</div>"
            ],
            "text/plain": [
              "      CreditScore  Gender  ...  Geography_Germany  Geography_Spain\n",
              "0             619       0  ...                  0                0\n",
              "1             608       0  ...                  0                1\n",
              "2             502       0  ...                  0                0\n",
              "3             699       0  ...                  0                0\n",
              "4             850       0  ...                  0                1\n",
              "...           ...     ...  ...                ...              ...\n",
              "9995          771       1  ...                  0                0\n",
              "9996          516       1  ...                  0                0\n",
              "9997          709       0  ...                  0                0\n",
              "9998          772       1  ...                  1                0\n",
              "9999          792       0  ...                  0                0\n",
              "\n",
              "[10000 rows x 12 columns]"
            ]
          },
          "metadata": {
            "tags": []
          },
          "execution_count": 10
        }
      ]
    },
    {
      "cell_type": "markdown",
      "metadata": {
        "id": "vHol938cW8zd"
      },
      "source": [
        "### Splitting the dataset into the Training set and Test set"
      ]
    },
    {
      "cell_type": "code",
      "metadata": {
        "id": "ucGKKObAPdSL"
      },
      "source": [
        "from sklearn.model_selection import train_test_split\n",
        "X_train, X_test, y_train, y_test = train_test_split(X,y, test_size = 0.2,random_state = 0)"
      ],
      "execution_count": 12,
      "outputs": []
    },
    {
      "cell_type": "markdown",
      "metadata": {
        "id": "RE_FcHyfV3TQ"
      },
      "source": [
        "### Feature Scaling"
      ]
    },
    {
      "cell_type": "code",
      "metadata": {
        "id": "fRjgdLbVPd0e"
      },
      "source": [
        "from sklearn.preprocessing import StandardScaler\n",
        "sc = StandardScaler()\n",
        "X_train = sc.fit_transform(X_train)\n",
        "X_test = sc.transform(X_test)"
      ],
      "execution_count": 13,
      "outputs": []
    },
    {
      "cell_type": "code",
      "metadata": {
        "colab": {
          "base_uri": "https://localhost:8080/"
        },
        "id": "DH7XR3-9zO-R",
        "outputId": "968e8c99-0e7b-4219-c23f-e3ad1ddf70e0"
      },
      "source": [
        "X_test"
      ],
      "execution_count": 14,
      "outputs": [
        {
          "output_type": "execute_result",
          "data": {
            "text/plain": [
              "array([[-0.55204276, -1.09168714, -0.36890377, ..., -1.01460667,\n",
              "         1.75486502, -0.57369368],\n",
              "       [-1.31490297, -1.09168714,  0.10961719, ...,  0.98560362,\n",
              "        -0.5698444 , -0.57369368],\n",
              "       [ 0.57162971, -1.09168714,  0.30102557, ..., -1.01460667,\n",
              "        -0.5698444 ,  1.74309049],\n",
              "       ...,\n",
              "       [-0.74791227,  0.91601335, -0.27319958, ..., -1.01460667,\n",
              "        -0.5698444 ,  1.74309049],\n",
              "       [-0.00566991,  0.91601335, -0.46460796, ..., -1.01460667,\n",
              "         1.75486502, -0.57369368],\n",
              "       [-0.79945688,  0.91601335, -0.84742473, ..., -1.01460667,\n",
              "         1.75486502, -0.57369368]])"
            ]
          },
          "metadata": {
            "tags": []
          },
          "execution_count": 14
        }
      ]
    },
    {
      "cell_type": "markdown",
      "metadata": {
        "id": "-zfEzkRVXIwF"
      },
      "source": [
        "## Part 2 - Building the ANN"
      ]
    },
    {
      "cell_type": "markdown",
      "metadata": {
        "id": "KvdeScabXtlB"
      },
      "source": [
        "### Initializing the ANN"
      ]
    },
    {
      "cell_type": "code",
      "metadata": {
        "id": "th7i3CUwPfuH"
      },
      "source": [
        "ann = tf.keras.models.Sequential()"
      ],
      "execution_count": 15,
      "outputs": []
    },
    {
      "cell_type": "markdown",
      "metadata": {
        "id": "rP6urV6SX7kS"
      },
      "source": [
        "### Adding the input layer and the first hidden layer"
      ]
    },
    {
      "cell_type": "code",
      "metadata": {
        "id": "N5sk6lIIPgxH"
      },
      "source": [
        "ann.add(tf.keras.layers.Dense(units=6, activation='relu', input_shape=[12]))"
      ],
      "execution_count": 16,
      "outputs": []
    },
    {
      "cell_type": "markdown",
      "metadata": {
        "id": "BELWAc_8YJze"
      },
      "source": [
        "### Adding the second hidden layer"
      ]
    },
    {
      "cell_type": "code",
      "metadata": {
        "id": "fszJ3mzAPhQj"
      },
      "source": [
        "ann.add(tf.keras.layers.Dense(units=6, activation='relu'))"
      ],
      "execution_count": 17,
      "outputs": []
    },
    {
      "cell_type": "markdown",
      "metadata": {
        "id": "OyNEe6RXYcU4"
      },
      "source": [
        "### Adding the output layer"
      ]
    },
    {
      "cell_type": "code",
      "metadata": {
        "id": "aNqMZ_ROPhwY"
      },
      "source": [
        "ann.add(tf.keras.layers.Dense(units=1, activation='sigmoid'))"
      ],
      "execution_count": 18,
      "outputs": []
    },
    {
      "cell_type": "markdown",
      "metadata": {
        "id": "JT4u2S1_Y4WG"
      },
      "source": [
        "## Part 3 - Training the ANN and Validation"
      ]
    },
    {
      "cell_type": "markdown",
      "metadata": {
        "id": "8GWlJChhY_ZI"
      },
      "source": [
        "### Compiling the ANN"
      ]
    },
    {
      "cell_type": "code",
      "metadata": {
        "id": "gWSZdFxlPic2"
      },
      "source": [
        "ann.compile(optimizer = 'adam', loss = 'binary_crossentropy', metrics = ['accuracy'])"
      ],
      "execution_count": 19,
      "outputs": []
    },
    {
      "cell_type": "markdown",
      "metadata": {
        "id": "0QR_G5u7ZLSM"
      },
      "source": [
        "### Training the ANN on the Training set\n",
        "* Including early stopping callbacks to avoid overfiting\n",
        "* X_test, y_test used for validation"
      ]
    },
    {
      "cell_type": "code",
      "metadata": {
        "id": "u3-SSiX2Pi-Q",
        "colab": {
          "base_uri": "https://localhost:8080/"
        },
        "outputId": "79a3cc9c-1354-4548-af17-6ccf1913ec38"
      },
      "source": [
        "early_stopping =tf.keras.callbacks.EarlyStopping(\n",
        "    patience =20,\n",
        "    min_delta = 0.001,\n",
        "    restore_best_weights=True,\n",
        ")\n",
        "\n",
        "history = ann.fit(X_train, y_train,\n",
        "                  validation_data = (X_test,y_test),\n",
        "                  callbacks = [early_stopping],\n",
        "                  batch_size = 31, \n",
        "                  epochs = 100,\n",
        "                  )"
      ],
      "execution_count": 20,
      "outputs": [
        {
          "output_type": "stream",
          "text": [
            "Epoch 1/100\n",
            "259/259 [==============================] - 1s 3ms/step - loss: 0.5257 - accuracy: 0.7768 - val_loss: 0.4679 - val_accuracy: 0.7970\n",
            "Epoch 2/100\n",
            "259/259 [==============================] - 0s 1ms/step - loss: 0.4528 - accuracy: 0.8001 - val_loss: 0.4441 - val_accuracy: 0.7955\n",
            "Epoch 3/100\n",
            "259/259 [==============================] - 0s 1ms/step - loss: 0.4452 - accuracy: 0.7975 - val_loss: 0.4335 - val_accuracy: 0.7950\n",
            "Epoch 4/100\n",
            "259/259 [==============================] - 0s 1ms/step - loss: 0.4240 - accuracy: 0.8009 - val_loss: 0.4297 - val_accuracy: 0.7970\n",
            "Epoch 5/100\n",
            "259/259 [==============================] - 0s 1ms/step - loss: 0.4284 - accuracy: 0.7966 - val_loss: 0.4250 - val_accuracy: 0.8075\n",
            "Epoch 6/100\n",
            "259/259 [==============================] - 0s 1ms/step - loss: 0.4296 - accuracy: 0.8064 - val_loss: 0.4182 - val_accuracy: 0.8120\n",
            "Epoch 7/100\n",
            "259/259 [==============================] - 0s 1ms/step - loss: 0.3993 - accuracy: 0.8275 - val_loss: 0.4159 - val_accuracy: 0.8230\n",
            "Epoch 8/100\n",
            "259/259 [==============================] - 0s 1ms/step - loss: 0.4171 - accuracy: 0.8158 - val_loss: 0.4100 - val_accuracy: 0.8330\n",
            "Epoch 9/100\n",
            "259/259 [==============================] - 0s 1ms/step - loss: 0.4097 - accuracy: 0.8246 - val_loss: 0.4021 - val_accuracy: 0.8365\n",
            "Epoch 10/100\n",
            "259/259 [==============================] - 0s 1ms/step - loss: 0.4056 - accuracy: 0.8258 - val_loss: 0.3956 - val_accuracy: 0.8370\n",
            "Epoch 11/100\n",
            "259/259 [==============================] - 0s 1ms/step - loss: 0.4041 - accuracy: 0.8273 - val_loss: 0.3931 - val_accuracy: 0.8355\n",
            "Epoch 12/100\n",
            "259/259 [==============================] - 0s 1ms/step - loss: 0.3905 - accuracy: 0.8347 - val_loss: 0.3855 - val_accuracy: 0.8350\n",
            "Epoch 13/100\n",
            "259/259 [==============================] - 0s 1ms/step - loss: 0.3858 - accuracy: 0.8348 - val_loss: 0.3838 - val_accuracy: 0.8350\n",
            "Epoch 14/100\n",
            "259/259 [==============================] - 0s 1ms/step - loss: 0.3782 - accuracy: 0.8364 - val_loss: 0.3815 - val_accuracy: 0.8340\n",
            "Epoch 15/100\n",
            "259/259 [==============================] - 0s 1ms/step - loss: 0.3689 - accuracy: 0.8445 - val_loss: 0.3761 - val_accuracy: 0.8425\n",
            "Epoch 16/100\n",
            "259/259 [==============================] - 0s 1ms/step - loss: 0.3769 - accuracy: 0.8407 - val_loss: 0.3745 - val_accuracy: 0.8455\n",
            "Epoch 17/100\n",
            "259/259 [==============================] - 0s 1ms/step - loss: 0.3751 - accuracy: 0.8409 - val_loss: 0.3698 - val_accuracy: 0.8485\n",
            "Epoch 18/100\n",
            "259/259 [==============================] - 0s 2ms/step - loss: 0.3729 - accuracy: 0.8446 - val_loss: 0.3670 - val_accuracy: 0.8475\n",
            "Epoch 19/100\n",
            "259/259 [==============================] - 0s 1ms/step - loss: 0.3577 - accuracy: 0.8504 - val_loss: 0.3668 - val_accuracy: 0.8485\n",
            "Epoch 20/100\n",
            "259/259 [==============================] - 0s 1ms/step - loss: 0.3717 - accuracy: 0.8448 - val_loss: 0.3654 - val_accuracy: 0.8480\n",
            "Epoch 21/100\n",
            "259/259 [==============================] - 0s 1ms/step - loss: 0.3678 - accuracy: 0.8517 - val_loss: 0.3648 - val_accuracy: 0.8500\n",
            "Epoch 22/100\n",
            "259/259 [==============================] - 0s 1ms/step - loss: 0.3531 - accuracy: 0.8578 - val_loss: 0.3609 - val_accuracy: 0.8530\n",
            "Epoch 23/100\n",
            "259/259 [==============================] - 0s 1ms/step - loss: 0.3609 - accuracy: 0.8499 - val_loss: 0.3599 - val_accuracy: 0.8535\n",
            "Epoch 24/100\n",
            "259/259 [==============================] - 0s 1ms/step - loss: 0.3511 - accuracy: 0.8575 - val_loss: 0.3547 - val_accuracy: 0.8580\n",
            "Epoch 25/100\n",
            "259/259 [==============================] - 0s 1ms/step - loss: 0.3560 - accuracy: 0.8527 - val_loss: 0.3530 - val_accuracy: 0.8580\n",
            "Epoch 26/100\n",
            "259/259 [==============================] - 0s 2ms/step - loss: 0.3483 - accuracy: 0.8555 - val_loss: 0.3532 - val_accuracy: 0.8555\n",
            "Epoch 27/100\n",
            "259/259 [==============================] - 0s 1ms/step - loss: 0.3506 - accuracy: 0.8563 - val_loss: 0.3564 - val_accuracy: 0.8550\n",
            "Epoch 28/100\n",
            "259/259 [==============================] - 0s 2ms/step - loss: 0.3469 - accuracy: 0.8551 - val_loss: 0.3497 - val_accuracy: 0.8645\n",
            "Epoch 29/100\n",
            "259/259 [==============================] - 0s 1ms/step - loss: 0.3623 - accuracy: 0.8466 - val_loss: 0.3483 - val_accuracy: 0.8635\n",
            "Epoch 30/100\n",
            "259/259 [==============================] - 0s 2ms/step - loss: 0.3443 - accuracy: 0.8593 - val_loss: 0.3474 - val_accuracy: 0.8595\n",
            "Epoch 31/100\n",
            "259/259 [==============================] - 0s 2ms/step - loss: 0.3500 - accuracy: 0.8548 - val_loss: 0.3461 - val_accuracy: 0.8620\n",
            "Epoch 32/100\n",
            "259/259 [==============================] - 0s 1ms/step - loss: 0.3442 - accuracy: 0.8588 - val_loss: 0.3460 - val_accuracy: 0.8570\n",
            "Epoch 33/100\n",
            "259/259 [==============================] - 0s 1ms/step - loss: 0.3392 - accuracy: 0.8605 - val_loss: 0.3447 - val_accuracy: 0.8630\n",
            "Epoch 34/100\n",
            "259/259 [==============================] - 0s 1ms/step - loss: 0.3402 - accuracy: 0.8600 - val_loss: 0.3423 - val_accuracy: 0.8595\n",
            "Epoch 35/100\n",
            "259/259 [==============================] - 0s 2ms/step - loss: 0.3417 - accuracy: 0.8632 - val_loss: 0.3455 - val_accuracy: 0.8565\n",
            "Epoch 36/100\n",
            "259/259 [==============================] - 0s 2ms/step - loss: 0.3355 - accuracy: 0.8601 - val_loss: 0.3428 - val_accuracy: 0.8625\n",
            "Epoch 37/100\n",
            "259/259 [==============================] - 0s 1ms/step - loss: 0.3301 - accuracy: 0.8671 - val_loss: 0.3417 - val_accuracy: 0.8580\n",
            "Epoch 38/100\n",
            "259/259 [==============================] - 0s 1ms/step - loss: 0.3439 - accuracy: 0.8607 - val_loss: 0.3397 - val_accuracy: 0.8620\n",
            "Epoch 39/100\n",
            "259/259 [==============================] - 0s 1ms/step - loss: 0.3435 - accuracy: 0.8606 - val_loss: 0.3425 - val_accuracy: 0.8610\n",
            "Epoch 40/100\n",
            "259/259 [==============================] - 0s 2ms/step - loss: 0.3409 - accuracy: 0.8625 - val_loss: 0.3434 - val_accuracy: 0.8605\n",
            "Epoch 41/100\n",
            "259/259 [==============================] - 0s 1ms/step - loss: 0.3424 - accuracy: 0.8574 - val_loss: 0.3380 - val_accuracy: 0.8615\n",
            "Epoch 42/100\n",
            "259/259 [==============================] - 0s 1ms/step - loss: 0.3332 - accuracy: 0.8665 - val_loss: 0.3379 - val_accuracy: 0.8595\n",
            "Epoch 43/100\n",
            "259/259 [==============================] - 0s 1ms/step - loss: 0.3383 - accuracy: 0.8658 - val_loss: 0.3406 - val_accuracy: 0.8565\n",
            "Epoch 44/100\n",
            "259/259 [==============================] - 0s 2ms/step - loss: 0.3366 - accuracy: 0.8635 - val_loss: 0.3372 - val_accuracy: 0.8615\n",
            "Epoch 45/100\n",
            "259/259 [==============================] - 0s 1ms/step - loss: 0.3410 - accuracy: 0.8585 - val_loss: 0.3356 - val_accuracy: 0.8610\n",
            "Epoch 46/100\n",
            "259/259 [==============================] - 0s 1ms/step - loss: 0.3359 - accuracy: 0.8636 - val_loss: 0.3343 - val_accuracy: 0.8640\n",
            "Epoch 47/100\n",
            "259/259 [==============================] - 0s 1ms/step - loss: 0.3321 - accuracy: 0.8651 - val_loss: 0.3350 - val_accuracy: 0.8625\n",
            "Epoch 48/100\n",
            "259/259 [==============================] - 0s 1ms/step - loss: 0.3368 - accuracy: 0.8638 - val_loss: 0.3354 - val_accuracy: 0.8675\n",
            "Epoch 49/100\n",
            "259/259 [==============================] - 0s 1ms/step - loss: 0.3345 - accuracy: 0.8604 - val_loss: 0.3355 - val_accuracy: 0.8640\n",
            "Epoch 50/100\n",
            "259/259 [==============================] - 0s 1ms/step - loss: 0.3417 - accuracy: 0.8575 - val_loss: 0.3383 - val_accuracy: 0.8575\n",
            "Epoch 51/100\n",
            "259/259 [==============================] - 0s 1ms/step - loss: 0.3248 - accuracy: 0.8693 - val_loss: 0.3395 - val_accuracy: 0.8545\n",
            "Epoch 52/100\n",
            "259/259 [==============================] - 0s 1ms/step - loss: 0.3327 - accuracy: 0.8589 - val_loss: 0.3369 - val_accuracy: 0.8610\n",
            "Epoch 53/100\n",
            "259/259 [==============================] - 0s 1ms/step - loss: 0.3396 - accuracy: 0.8607 - val_loss: 0.3352 - val_accuracy: 0.8625\n",
            "Epoch 54/100\n",
            "259/259 [==============================] - 0s 1ms/step - loss: 0.3377 - accuracy: 0.8627 - val_loss: 0.3363 - val_accuracy: 0.8565\n",
            "Epoch 55/100\n",
            "259/259 [==============================] - 0s 1ms/step - loss: 0.3376 - accuracy: 0.8606 - val_loss: 0.3312 - val_accuracy: 0.8635\n",
            "Epoch 56/100\n",
            "259/259 [==============================] - 0s 1ms/step - loss: 0.3349 - accuracy: 0.8607 - val_loss: 0.3346 - val_accuracy: 0.8615\n",
            "Epoch 57/100\n",
            "259/259 [==============================] - 0s 1ms/step - loss: 0.3331 - accuracy: 0.8637 - val_loss: 0.3334 - val_accuracy: 0.8615\n",
            "Epoch 58/100\n",
            "259/259 [==============================] - 0s 2ms/step - loss: 0.3305 - accuracy: 0.8619 - val_loss: 0.3359 - val_accuracy: 0.8600\n",
            "Epoch 59/100\n",
            "259/259 [==============================] - 0s 1ms/step - loss: 0.3410 - accuracy: 0.8608 - val_loss: 0.3351 - val_accuracy: 0.8595\n",
            "Epoch 60/100\n",
            "259/259 [==============================] - 0s 1ms/step - loss: 0.3281 - accuracy: 0.8622 - val_loss: 0.3360 - val_accuracy: 0.8555\n",
            "Epoch 61/100\n",
            "259/259 [==============================] - 1s 2ms/step - loss: 0.3274 - accuracy: 0.8598 - val_loss: 0.3326 - val_accuracy: 0.8620\n",
            "Epoch 62/100\n",
            "259/259 [==============================] - 0s 1ms/step - loss: 0.3287 - accuracy: 0.8641 - val_loss: 0.3343 - val_accuracy: 0.8595\n",
            "Epoch 63/100\n",
            "259/259 [==============================] - 0s 1ms/step - loss: 0.3357 - accuracy: 0.8575 - val_loss: 0.3316 - val_accuracy: 0.8620\n",
            "Epoch 64/100\n",
            "259/259 [==============================] - 0s 1ms/step - loss: 0.3311 - accuracy: 0.8634 - val_loss: 0.3338 - val_accuracy: 0.8595\n",
            "Epoch 65/100\n",
            "259/259 [==============================] - 0s 2ms/step - loss: 0.3194 - accuracy: 0.8732 - val_loss: 0.3363 - val_accuracy: 0.8560\n",
            "Epoch 66/100\n",
            "259/259 [==============================] - 0s 1ms/step - loss: 0.3306 - accuracy: 0.8659 - val_loss: 0.3324 - val_accuracy: 0.8610\n",
            "Epoch 67/100\n",
            "259/259 [==============================] - 0s 1ms/step - loss: 0.3321 - accuracy: 0.8617 - val_loss: 0.3375 - val_accuracy: 0.8560\n",
            "Epoch 68/100\n",
            "259/259 [==============================] - 0s 1ms/step - loss: 0.3274 - accuracy: 0.8641 - val_loss: 0.3348 - val_accuracy: 0.8605\n",
            "Epoch 69/100\n",
            "259/259 [==============================] - 0s 1ms/step - loss: 0.3322 - accuracy: 0.8616 - val_loss: 0.3323 - val_accuracy: 0.8610\n",
            "Epoch 70/100\n",
            "259/259 [==============================] - 0s 1ms/step - loss: 0.3317 - accuracy: 0.8666 - val_loss: 0.3310 - val_accuracy: 0.8605\n",
            "Epoch 71/100\n",
            "259/259 [==============================] - 0s 2ms/step - loss: 0.3318 - accuracy: 0.8641 - val_loss: 0.3349 - val_accuracy: 0.8555\n",
            "Epoch 72/100\n",
            "259/259 [==============================] - 0s 1ms/step - loss: 0.3320 - accuracy: 0.8587 - val_loss: 0.3402 - val_accuracy: 0.8555\n",
            "Epoch 73/100\n",
            "259/259 [==============================] - 0s 2ms/step - loss: 0.3270 - accuracy: 0.8632 - val_loss: 0.3360 - val_accuracy: 0.8560\n",
            "Epoch 74/100\n",
            "259/259 [==============================] - 0s 1ms/step - loss: 0.3251 - accuracy: 0.8678 - val_loss: 0.3331 - val_accuracy: 0.8600\n",
            "Epoch 75/100\n",
            "259/259 [==============================] - 0s 1ms/step - loss: 0.3311 - accuracy: 0.8676 - val_loss: 0.3325 - val_accuracy: 0.8610\n"
          ],
          "name": "stdout"
        }
      ]
    },
    {
      "cell_type": "markdown",
      "metadata": {
        "id": "F0iMwFh6ybwp"
      },
      "source": [
        "### Evaluating Model"
      ]
    },
    {
      "cell_type": "code",
      "metadata": {
        "colab": {
          "base_uri": "https://localhost:8080/",
          "height": 578
        },
        "id": "w2PAL_7lGoDi",
        "outputId": "53173352-e358-4697-9b5f-14ce3d0d754c"
      },
      "source": [
        "history_df = pd.DataFrame(history.history)\n",
        "# Start the plot at epoch 5\n",
        "history_df.loc[5:, ['loss', 'val_loss']].plot(xlabel='Epoch',ylabel='Loss')\n",
        "history_df.loc[5:, ['accuracy', 'val_accuracy']].plot(xlabel='Epoch',ylabel='Accuracy')\n",
        "\n",
        "print((\"Best Validation Loss: {:0.4f}\" +\\\n",
        "      \"\\nBest Validation Accuracy: {:0.4f}\")\\\n",
        "      .format(history_df['val_loss'].min(), \n",
        "              history_df['val_accuracy'].max()))"
      ],
      "execution_count": 37,
      "outputs": [
        {
          "output_type": "stream",
          "text": [
            "Best Validation Loss: 0.3310\n",
            "Best Validation Accuracy: 0.8675\n"
          ],
          "name": "stdout"
        },
        {
          "output_type": "display_data",
          "data": {
            "image/png": "[encoded data removed]",
            "text/plain": [
              "<Figure size 432x288 with 1 Axes>"
            ]
          },
          "metadata": {
            "tags": [],
            "needs_background": "light"
          }
        },
        {
          "output_type": "display_data",
          "data": {
            "image/png": "[encoded data removed]",
            "text/plain": [
              "<Figure size 432x288 with 1 Axes>"
            ]
          },
          "metadata": {
            "tags": [],
            "needs_background": "light"
          }
        }
      ]
    },
    {
      "cell_type": "markdown",
      "metadata": {
        "id": "tJj5k2MxZga3"
      },
      "source": [
        "## Part 4 - Making the predictions"
      ]
    },
    {
      "cell_type": "markdown",
      "metadata": {
        "id": "84QFoqGYeXHL"
      },
      "source": [
        "### Predicting the result of a single observation"
      ]
    },
    {
      "cell_type": "markdown",
      "metadata": {
        "id": "CGRo3eacgDdC"
      },
      "source": [
        "**Case Problem from Udemy course**\n",
        "\n",
        "*Let's predict with our ANN model if the customer with the following informations will leave the bank or not.* \n",
        "\n",
        "Credit Score: 600\n",
        "\n",
        "Gender: Male\n",
        "\n",
        "Age: 40 years old\n",
        "\n",
        "Tenure: 3 years\n",
        "\n",
        "Balance: \\$ 60000\n",
        "\n",
        "Number of Products: 2\n",
        "\n",
        "Does this customer have a credit card ? Yes\n",
        "\n",
        "Is this customer an Active Member: Yes\n",
        "\n",
        "Estimated Salary: \\$ 50000\n",
        "\n",
        "Geography: France\n",
        "\n",
        "*So, do we expect him to leave the bank?*"
      ]
    },
    {
      "cell_type": "markdown",
      "metadata": {
        "id": "ZhU1LTgPg-kH"
      },
      "source": [
        "**Solution**\n",
        "* In training data, last three columns are for Geography.\n",
        "France = [1,0,0], Germany = [0,1,0], Spain = [0,0,1]"
      ]
    },
    {
      "cell_type": "code",
      "metadata": {
        "id": "2d8IoCCkeWGL",
        "colab": {
          "base_uri": "https://localhost:8080/"
        },
        "outputId": "5804bc93-e0cb-4c45-fc34-5cd512d46c41"
      },
      "source": [
        "print(ann.predict(sc.transform([[600, 1, 40, 3, 60000, 2, 1, 1, 50000,1,0,0]])) > 0.5)"
      ],
      "execution_count": 40,
      "outputs": [
        {
          "output_type": "stream",
          "text": [
            "[[False]]\n"
          ],
          "name": "stdout"
        }
      ]
    },
    {
      "cell_type": "markdown",
      "metadata": {
        "id": "wGjx94g2n7OV"
      },
      "source": [
        "The ANN model predicts that this customer stays in the bank.\n",
        "\n"
      ]
    }
  ]
}