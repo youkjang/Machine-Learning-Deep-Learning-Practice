{
  "nbformat": 4,
  "nbformat_minor": 0,
  "metadata": {
    "colab": {
      "name": "storm_prediction_ROC.ipynb",
      "provenance": [],
      "toc_visible": true,
      "authorship_tag": "ABX9TyNJIB9Jo4af4wsBhb+0gVsU",
      "include_colab_link": true
    },
    "kernelspec": {
      "name": "python3",
      "display_name": "Python 3"
    }
  },
  "cells": [
    {
      "cell_type": "markdown",
      "metadata": {
        "id": "view-in-github",
        "colab_type": "text"
      },
      "source": [
        "<a href=\"https://colab.research.google.com/github/youkjang/Machine-Learning-Deep-Learning-Practice/blob/main/storm_prediction_ROC.ipynb\" target=\"_parent\"><img src=\"https://colab.research.google.com/assets/colab-badge.svg\" alt=\"Open In Colab\"/></a>"
      ]
    },
    {
      "cell_type": "markdown",
      "metadata": {
        "id": "vfphnKQXasKF"
      },
      "source": [
        "# Classification Problems: Receiver Operating Characteristic (ROC) curve\n",
        "\n",
        "## Compare ML Algorithms for Storm Prediction\n",
        "1. Preprocessing: select inputs, split the datasets, and normalization\n",
        "2. Build models: Logistic Regression, Random Forest, Naive Bayes, KNN, SVM, XGBoost, and Gradient Boosting\n",
        "3. Computing AUROC and ROC\n",
        "\n",
        "## Input variables\n",
        "- REFL_COM_mean (composite reflectivity)\n",
        "\n",
        "- U10_mean, U10_max (10 m west-east wind component in m/s)\n",
        "\n",
        "- V10_mean, V10_max (10 m south-north wind component in m/s)\n",
        "\n",
        "- T2_mean, T2_max (2 m temperature in Kelvin)\n",
        "\n",
        "## Output variables\n",
        "- Based on Vorticity, strong rotation as 1 and weak or no rotation as 0\n",
        "\n",
        "## data\n",
        "https://github.com/djgagne/ams-ml-python-course/blob/master/download_data.py\n",
        "## Reference\n",
        "- https://github.com/dataprofessor/code/blob/master/python/ROC_curve.ipynb\n",
        "- https://github.com/djgagne/ams-ml-python-course/blob/master/module_3/ML_Short_Course_Module_3_Deep_Learning.ipynb\n",
        "\n",
        " \n",
        "\n"
      ]
    },
    {
      "cell_type": "code",
      "metadata": {
        "id": "KCNSMK4bJ96A"
      },
      "source": [
        "import numpy as np\n",
        "import pandas as pd\n",
        "import seaborn as sns\n",
        "import matplotlib.pyplot as plt\n",
        "import glob"
      ],
      "execution_count": 1,
      "outputs": []
    },
    {
      "cell_type": "markdown",
      "metadata": {
        "id": "-S5DCUyFbsrH"
      },
      "source": [
        "## Load CSV file"
      ]
    },
    {
      "cell_type": "code",
      "metadata": {
        "id": "P9_35UjGbuE-"
      },
      "source": [
        "csv_files = sorted(glob.glob(\"*.csv\"))\n",
        "csv_data_list = []\n",
        "for csv_file in csv_files:\n",
        "    csv_data_list.append(pd.read_csv(csv_file))\n",
        "csv_data = pd.concat(csv_data_list, ignore_index=True)\n",
        "del csv_data_list"
      ],
      "execution_count": 2,
      "outputs": []
    },
    {
      "cell_type": "markdown",
      "metadata": {
        "id": "ubDUny8NGUhM"
      },
      "source": [
        "## Pre-Processing for Deep Learning\n",
        "### Select Variables\n",
        "- Input & output variables"
      ]
    },
    {
      "cell_type": "code",
      "metadata": {
        "id": "IJPw2MjSlLyk"
      },
      "source": [
        "input_columns = [\"REFL_COM_mean\", \"U10_mean\", \"V10_mean\", \"T2_mean\",\n",
        "                 \"U10_max\", \"V10_max\", \"T2_max\"]\n",
        "output_column = \"RVORT1_MAX-future_max\""
      ],
      "execution_count": 3,
      "outputs": []
    },
    {
      "cell_type": "markdown",
      "metadata": {
        "id": "RBvujKAimoLJ"
      },
      "source": [
        "## Split dataset into trainning and test data"
      ]
    },
    {
      "cell_type": "code",
      "metadata": {
        "id": "46Xfx-CRsf8g"
      },
      "source": [
        "train_test_date = pd.Timestamp(\"2015-01-01\")\n",
        "valid_dates = pd.DatetimeIndex(csv_data[\"Valid_Date\"])"
      ],
      "execution_count": 4,
      "outputs": []
    },
    {
      "cell_type": "markdown",
      "metadata": {
        "id": "_YXz5TwmlZuo"
      },
      "source": [
        "- Vorticity threshold in $s^{-1}$"
      ]
    },
    {
      "cell_type": "code",
      "metadata": {
        "id": "uPPVXWtamBtB"
      },
      "source": [
        "out_threshold = 0.005"
      ],
      "execution_count": 5,
      "outputs": []
    },
    {
      "cell_type": "markdown",
      "metadata": {
        "id": "sh1nc8LEshln"
      },
      "source": [
        "- Input training data : 2010-10-24 ~ 2014-11-24\n",
        "- Output (Label) : RVORT1_MAX-future_max, strong rotation as 1 and weak or no rotation as 0"
      ]
    },
    {
      "cell_type": "code",
      "metadata": {
        "id": "cOMLArAUstR7"
      },
      "source": [
        "train_data = csv_data.loc[valid_dates < train_test_date, input_columns]\n",
        "\n",
        "train_out = np.where(csv_data.loc[valid_dates < train_test_date, output_column] > out_threshold, 1, 0)"
      ],
      "execution_count": 6,
      "outputs": []
    },
    {
      "cell_type": "markdown",
      "metadata": {
        "id": "TWR9CmCHuBMf"
      },
      "source": [
        "- Input test data: 2015-3-31 ~ 2017-3-30\n",
        "- Output test: strong rotation as 1 and weak or no rotation as 0"
      ]
    },
    {
      "cell_type": "code",
      "metadata": {
        "id": "N2G1O39hbfg8"
      },
      "source": [
        "test_data = csv_data.loc[valid_dates >= train_test_date, input_columns]\n",
        "\n",
        "test_out = np.where(csv_data.loc[valid_dates >= train_test_date, output_column] > out_threshold, 1, 0)"
      ],
      "execution_count": 7,
      "outputs": []
    },
    {
      "cell_type": "markdown",
      "metadata": {
        "id": "okBSmIZAGjT8"
      },
      "source": [
        "## Normalize Input for classification models"
      ]
    },
    {
      "cell_type": "code",
      "metadata": {
        "colab": {
          "base_uri": "https://localhost:8080/"
        },
        "id": "QLIYqrTDFUfa",
        "outputId": "a76b869b-5820-4d1e-c5c4-787d3cbf844c"
      },
      "source": [
        "from sklearn.preprocessing import StandardScaler\n",
        "\n",
        "scaler = StandardScaler()\n",
        "train_norm = scaler.fit_transform(train_data)\n",
        "test_norm = scaler.transform(test_data)\n",
        "for i, input_col in enumerate(input_columns):\n",
        "    print(f\"{input_columns[i]:13s} Mean: {scaler.mean_[i]:0.3f} SD: {scaler.scale_[i]:0.3f}\")"
      ],
      "execution_count": 8,
      "outputs": [
        {
          "output_type": "stream",
          "text": [
            "REFL_COM_mean Mean: 46.847 SD: 3.984\n",
            "U10_mean      Mean: 0.450 SD: 4.348\n",
            "V10_mean      Mean: 0.543 SD: 4.462\n",
            "T2_mean       Mean: 289.409 SD: 6.932\n",
            "U10_max       Mean: 3.764 SD: 5.261\n",
            "V10_max       Mean: 3.898 SD: 5.066\n",
            "T2_max        Mean: 290.693 SD: 7.124\n"
          ],
          "name": "stdout"
        }
      ]
    },
    {
      "cell_type": "markdown",
      "metadata": {
        "id": "POOiI45xLDOB"
      },
      "source": [
        "## Build classification model\n",
        "### Logistic Regression"
      ]
    },
    {
      "cell_type": "code",
      "metadata": {
        "colab": {
          "base_uri": "https://localhost:8080/"
        },
        "id": "ggZuNzdtx-XD",
        "outputId": "52a10b88-5d1e-4d6c-8130-2718fc0410c4"
      },
      "source": [
        "from sklearn.linear_model import LogisticRegression\n",
        "lreg = LogisticRegression()\n",
        "lreg.fit(train_norm,train_out)"
      ],
      "execution_count": 9,
      "outputs": [
        {
          "output_type": "execute_result",
          "data": {
            "text/plain": [
              "LogisticRegression(C=1.0, class_weight=None, dual=False, fit_intercept=True,\n",
              "                   intercept_scaling=1, l1_ratio=None, max_iter=100,\n",
              "                   multi_class='auto', n_jobs=None, penalty='l2',\n",
              "                   random_state=None, solver='lbfgs', tol=0.0001, verbose=0,\n",
              "                   warm_start=False)"
            ]
          },
          "metadata": {
            "tags": []
          },
          "execution_count": 9
        }
      ]
    },
    {
      "cell_type": "markdown",
      "metadata": {
        "id": "Zd3PrCwOLfO-"
      },
      "source": [
        "### Random Forest"
      ]
    },
    {
      "cell_type": "code",
      "metadata": {
        "id": "0Kti-3hWMAgi",
        "colab": {
          "base_uri": "https://localhost:8080/"
        },
        "outputId": "6d26c5f1-3962-4429-a5a7-2e920baf1320"
      },
      "source": [
        "from sklearn.ensemble import RandomForestClassifier\n",
        "rf = RandomForestClassifier(max_features=5, n_estimators=100)\n",
        "rf.fit(train_norm,train_out)"
      ],
      "execution_count": 10,
      "outputs": [
        {
          "output_type": "execute_result",
          "data": {
            "text/plain": [
              "RandomForestClassifier(bootstrap=True, ccp_alpha=0.0, class_weight=None,\n",
              "                       criterion='gini', max_depth=None, max_features=5,\n",
              "                       max_leaf_nodes=None, max_samples=None,\n",
              "                       min_impurity_decrease=0.0, min_impurity_split=None,\n",
              "                       min_samples_leaf=1, min_samples_split=2,\n",
              "                       min_weight_fraction_leaf=0.0, n_estimators=100,\n",
              "                       n_jobs=None, oob_score=False, random_state=None,\n",
              "                       verbose=0, warm_start=False)"
            ]
          },
          "metadata": {
            "tags": []
          },
          "execution_count": 10
        }
      ]
    },
    {
      "cell_type": "code",
      "metadata": {
        "colab": {
          "base_uri": "https://localhost:8080/",
          "height": 337
        },
        "id": "oQh-n_6PvbOW",
        "outputId": "54300c24-09ef-4171-c64f-48669210eda2"
      },
      "source": [
        "imp = pd.Series(data=rf.feature_importances_, index=train_data.columns).sort_values(ascending=False)\n",
        "plt.figure(figsize=(10,5))\n",
        "plt.title(\"Feature importance\")\n",
        "ax = sns.barplot(x=imp.index, y=imp.values)"
      ],
      "execution_count": 11,
      "outputs": [
        {
          "output_type": "display_data",
          "data": {
            "image/png": "[encoded data removed]",
            "text/plain": [
              "<Figure size 720x360 with 1 Axes>"
            ]
          },
          "metadata": {
            "tags": [],
            "needs_background": "light"
          }
        }
      ]
    },
    {
      "cell_type": "markdown",
      "metadata": {
        "id": "Mr_1LkVaMDdW"
      },
      "source": [
        "###Naive Bayes"
      ]
    },
    {
      "cell_type": "code",
      "metadata": {
        "id": "AACv_valMLOp",
        "colab": {
          "base_uri": "https://localhost:8080/"
        },
        "outputId": "a902dfc9-fbf6-4562-cb38-a849040ca77e"
      },
      "source": [
        "from sklearn.naive_bayes import GaussianNB\n",
        "nb = GaussianNB()\n",
        "nb.fit(train_norm, train_out)"
      ],
      "execution_count": 12,
      "outputs": [
        {
          "output_type": "execute_result",
          "data": {
            "text/plain": [
              "GaussianNB(priors=None, var_smoothing=1e-09)"
            ]
          },
          "metadata": {
            "tags": []
          },
          "execution_count": 12
        }
      ]
    },
    {
      "cell_type": "markdown",
      "metadata": {
        "id": "SPClnNxw1pwI"
      },
      "source": [
        "### K-NN, K-nearest neighbors vote "
      ]
    },
    {
      "cell_type": "code",
      "metadata": {
        "colab": {
          "base_uri": "https://localhost:8080/"
        },
        "id": "fSliTtkN1p5-",
        "outputId": "7bddaa15-3a1b-4f6e-d094-03bd3bf014a8"
      },
      "source": [
        "from sklearn.neighbors import KNeighborsClassifier\n",
        "knn = KNeighborsClassifier(n_neighbors = 6,metric ='minkowski', p = 2)\n",
        "knn.fit(train_norm, train_out)"
      ],
      "execution_count": 13,
      "outputs": [
        {
          "output_type": "execute_result",
          "data": {
            "text/plain": [
              "KNeighborsClassifier(algorithm='auto', leaf_size=30, metric='minkowski',\n",
              "                     metric_params=None, n_jobs=None, n_neighbors=6, p=2,\n",
              "                     weights='uniform')"
            ]
          },
          "metadata": {
            "tags": []
          },
          "execution_count": 13
        }
      ]
    },
    {
      "cell_type": "markdown",
      "metadata": {
        "id": "umCkWLYGlWiw"
      },
      "source": [
        "### Support Vector Machine Classifier"
      ]
    },
    {
      "cell_type": "code",
      "metadata": {
        "colab": {
          "base_uri": "https://localhost:8080/"
        },
        "id": "muRmZYpIli2P",
        "outputId": "bdb1644e-3b2a-4d45-9d6f-02197ac0b3d8"
      },
      "source": [
        "from sklearn.svm import SVC\n",
        "svc = SVC(kernel = 'rbf', probability=True)\n",
        "svc.fit(train_norm, train_out)"
      ],
      "execution_count": 14,
      "outputs": [
        {
          "output_type": "execute_result",
          "data": {
            "text/plain": [
              "SVC(C=1.0, break_ties=False, cache_size=200, class_weight=None, coef0=0.0,\n",
              "    decision_function_shape='ovr', degree=3, gamma='scale', kernel='rbf',\n",
              "    max_iter=-1, probability=True, random_state=None, shrinking=True, tol=0.001,\n",
              "    verbose=False)"
            ]
          },
          "metadata": {
            "tags": []
          },
          "execution_count": 14
        }
      ]
    },
    {
      "cell_type": "markdown",
      "metadata": {
        "id": "DMvJqH49oUP-"
      },
      "source": [
        "###XGBoost Classifier"
      ]
    },
    {
      "cell_type": "code",
      "metadata": {
        "colab": {
          "base_uri": "https://localhost:8080/"
        },
        "id": "dmQx4xwSoW-9",
        "outputId": "da4d1c17-c690-46d0-dd98-4a9d9646b9f2"
      },
      "source": [
        "import xgboost \n",
        "xgb = xgboost.XGBClassifier()\n",
        "xgb.fit(train_norm,train_out)"
      ],
      "execution_count": 15,
      "outputs": [
        {
          "output_type": "execute_result",
          "data": {
            "text/plain": [
              "XGBClassifier(base_score=0.5, booster='gbtree', colsample_bylevel=1,\n",
              "              colsample_bynode=1, colsample_bytree=1, gamma=0,\n",
              "              learning_rate=0.1, max_delta_step=0, max_depth=3,\n",
              "              min_child_weight=1, missing=None, n_estimators=100, n_jobs=1,\n",
              "              nthread=None, objective='binary:logistic', random_state=0,\n",
              "              reg_alpha=0, reg_lambda=1, scale_pos_weight=1, seed=None,\n",
              "              silent=None, subsample=1, verbosity=1)"
            ]
          },
          "metadata": {
            "tags": []
          },
          "execution_count": 15
        }
      ]
    },
    {
      "cell_type": "markdown",
      "metadata": {
        "id": "ERRNhlNMoXPG"
      },
      "source": [
        "###Gradient Boosting Classifier"
      ]
    },
    {
      "cell_type": "code",
      "metadata": {
        "colab": {
          "base_uri": "https://localhost:8080/"
        },
        "id": "TtrgJWspoXYP",
        "outputId": "4b162596-934e-49fe-d9a7-507b47d8b88b"
      },
      "source": [
        "from sklearn.ensemble import GradientBoostingClassifier\n",
        "gbc = GradientBoostingClassifier()\n",
        "gbc.fit(train_norm,train_out)"
      ],
      "execution_count": 16,
      "outputs": [
        {
          "output_type": "execute_result",
          "data": {
            "text/plain": [
              "GradientBoostingClassifier(ccp_alpha=0.0, criterion='friedman_mse', init=None,\n",
              "                           learning_rate=0.1, loss='deviance', max_depth=3,\n",
              "                           max_features=None, max_leaf_nodes=None,\n",
              "                           min_impurity_decrease=0.0, min_impurity_split=None,\n",
              "                           min_samples_leaf=1, min_samples_split=2,\n",
              "                           min_weight_fraction_leaf=0.0, n_estimators=100,\n",
              "                           n_iter_no_change=None, presort='deprecated',\n",
              "                           random_state=None, subsample=1.0, tol=0.0001,\n",
              "                           validation_fraction=0.1, verbose=0,\n",
              "                           warm_start=False)"
            ]
          },
          "metadata": {
            "tags": []
          },
          "execution_count": 16
        }
      ]
    },
    {
      "cell_type": "markdown",
      "metadata": {
        "id": "u6xhDKmfY-1y"
      },
      "source": [
        "## Prediction probabilities\n",
        "* r_probs: Random prediction\n",
        "* lreg_probs: Logistic Regression\n",
        "* rf_probs: Random Forest\n",
        "* nb_probs: Naive Bayes\n",
        "* knn_probs: K-nearest neighbors\n",
        "* svc_probs: Support Vector Machine Classifier\n",
        "* xgb_probs: XGBoost Classifier\n",
        "* gbc_probs: Gradient Boosting Classifier"
      ]
    },
    {
      "cell_type": "code",
      "metadata": {
        "id": "JufqNrlOZBWG"
      },
      "source": [
        "r_probs = [0 for _ in range(len(test_norm))]\n",
        "lreg_probs = lreg.predict_proba(test_norm)\n",
        "rf_probs = rf.predict_proba(test_norm)\n",
        "nb_probs = nb.predict_proba(test_norm)\n",
        "knn_probs = knn.predict_proba(test_norm)\n",
        "svc_probs = svc.predict_proba(test_norm)\n",
        "xgb_probs = xgb.predict_proba(test_norm)\n",
        "gbc_probs = gbc.predict_proba(test_norm)"
      ],
      "execution_count": 17,
      "outputs": []
    },
    {
      "cell_type": "markdown",
      "metadata": {
        "id": "f7yVOm2t72X4"
      },
      "source": [
        "### Probabilities for the positive outcome"
      ]
    },
    {
      "cell_type": "code",
      "metadata": {
        "id": "dGAU8Qb1710j"
      },
      "source": [
        "lreg_probs = lreg_probs[:,1]\n",
        "rf_probs = rf_probs[:,1]\n",
        "nb_probs = nb_probs[:,1]\n",
        "knn_probs = knn_probs[:,1]\n",
        "svc_probs = svc_probs[:,1]\n",
        "xgb_probs = xgb_probs[:,1]\n",
        "gbc_probs = gbc_probs[:,1]"
      ],
      "execution_count": 18,
      "outputs": []
    },
    {
      "cell_type": "markdown",
      "metadata": {
        "id": "cX-CgWFR4AFP"
      },
      "source": [
        "## Computing AUROC and ROC curve values"
      ]
    },
    {
      "cell_type": "code",
      "metadata": {
        "id": "0EaiUNps3T-u"
      },
      "source": [
        "from sklearn.metrics import roc_curve, roc_auc_score"
      ],
      "execution_count": 19,
      "outputs": []
    },
    {
      "cell_type": "markdown",
      "metadata": {
        "id": "yiOoVk7PMPjH"
      },
      "source": [
        "### AUROC: the area under the ROC \n"
      ]
    },
    {
      "cell_type": "code",
      "metadata": {
        "id": "45W00zPmMSbL"
      },
      "source": [
        "r_auc = roc_auc_score(test_out, r_probs)\n",
        "lreg_auc = roc_auc_score(test_out, lreg_probs)\n",
        "rf_auc = roc_auc_score(test_out, rf_probs)\n",
        "nb_auc = roc_auc_score(test_out, nb_probs)\n",
        "knn_auc = roc_auc_score(test_out, knn_probs)\n",
        "svc_auc = roc_auc_score(test_out, svc_probs)\n",
        "xgb_auc = roc_auc_score(test_out, xgb_probs)\n",
        "gbc_auc = roc_auc_score(test_out, gbc_probs)\n"
      ],
      "execution_count": 20,
      "outputs": []
    },
    {
      "cell_type": "code",
      "metadata": {
        "colab": {
          "base_uri": "https://localhost:8080/"
        },
        "id": "H5rc-Rrf-X5p",
        "outputId": "1b2f5d21-6d16-42ef-8fc8-ac60aae0f802"
      },
      "source": [
        "print('Random Chance Prediction: AUROC = %.2f' %r_auc)\n",
        "print('Logistic Regression: AUROC = %.2f' %lreg_auc)\n",
        "print('Random Forest: AUROC = %.2f' %rf_auc)\n",
        "print('Native Bayes: AUROC = %.2f'%nb_auc)\n",
        "print('KNN : AUROC = %.2f' %knn_auc)\n",
        "print('Support Vector Machine: AUROC = %.2f '%svc_auc)\n",
        "print('XGBoost: AUROC = %.2f' %xgb_auc)\n",
        "print('Gradient Boosting = %.2f' %gbc_auc)"
      ],
      "execution_count": 21,
      "outputs": [
        {
          "output_type": "stream",
          "text": [
            "Random Chance Prediction: AUROC = 0.50\n",
            "Logistic Regression: AUROC = 0.92\n",
            "Random Forest: AUROC = 0.90\n",
            "Native Bayes: AUROC = 0.88\n",
            "KNN : AUROC = 0.81\n",
            "Support Vector Machine: AUROC = 0.77 \n",
            "XGBoost: AUROC = 0.92\n",
            "Gradient Boosting = 0.92\n"
          ],
          "name": "stdout"
        }
      ]
    },
    {
      "cell_type": "markdown",
      "metadata": {
        "id": "Ye15xJiQMt7n"
      },
      "source": [
        "### Calculate ROC curve"
      ]
    },
    {
      "cell_type": "code",
      "metadata": {
        "id": "FKFtmL8fMwJc"
      },
      "source": [
        "r_fpr, r_tpr, _ = roc_curve(test_out, r_probs)\n",
        "lreg_fpr, lreg_tpr, _ = roc_curve(test_out, lreg_probs)\n",
        "rf_fpr, rf_tpr, _ = roc_curve(test_out, rf_probs)\n",
        "nb_fpr, nb_tpr, _ = roc_curve(test_out, nb_probs)\n",
        "knn_fpr, knn_tpr, _ = roc_curve(test_out, knn_probs)\n",
        "svc_fpr, svc_tpr, _ = roc_curve(test_out, svc_probs)\n",
        "xgb_fpr, xgb_tpr, _ = roc_curve(test_out, xgb_probs)\n",
        "gbc_fpr, gbc_tpr, _ = roc_curve(test_out, gbc_probs)"
      ],
      "execution_count": 22,
      "outputs": []
    },
    {
      "cell_type": "markdown",
      "metadata": {
        "id": "1G28JkTO_44-"
      },
      "source": [
        "### Plot the ROC curve"
      ]
    },
    {
      "cell_type": "code",
      "metadata": {
        "id": "WqpS7YyKNJUd"
      },
      "source": [
        "import matplotlib.pyplot as plt"
      ],
      "execution_count": 23,
      "outputs": []
    },
    {
      "cell_type": "code",
      "metadata": {
        "colab": {
          "base_uri": "https://localhost:8080/",
          "height": 513
        },
        "id": "Tb_c7jG1NdqP",
        "outputId": "259aec19-5cea-405e-86ec-13139fe8d254"
      },
      "source": [
        "plt.figure(figsize=(7,8))\n",
        "\n",
        "plt.plot(r_fpr, r_tpr, linestyle='--')\n",
        "plt.plot(lreg_fpr, lreg_tpr)\n",
        "plt.plot(rf_fpr, rf_tpr)\n",
        "plt.plot(nb_fpr, nb_tpr)\n",
        "plt.plot(knn_fpr, knn_tpr)\n",
        "plt.plot(svc_fpr, svc_tpr)\n",
        "plt.plot(xgb_fpr, xgb_tpr)\n",
        "plt.plot(gbc_fpr, gbc_tpr)\n",
        "\n",
        "r_legend = 'Random chance (AUROC = %0.2f)' % r_auc\n",
        "lreg_legend = 'Logistic Regression (AUROC = %0.2f)' % lreg_auc\n",
        "rf_legend = \"Random Forest (AUROC = %0.2f)\" % rf_auc\n",
        "nb_legend = \"Naive Bayes (AUROC = %0.2f)\" % nb_auc\n",
        "knn_legend = \"KNN (AUROC = %0.2f)\" %knn_auc\n",
        "svc_legend = \"SVM (AUROC = %0.2f)\" %svc_auc\n",
        "xgb_legend = \"XGBoost (AUROC = %0.2f) \" %xgb_auc\n",
        "gbc_legend = \"Gradient Boosting (AUROC = %0.2f) \" %gbc_auc\n",
        "\n",
        "plt.title('ROC Plot')\n",
        "plt.xlabel('False Positive Rate')\n",
        "plt.ylabel('True Positive RAte')\n",
        "plt.legend(labels = [r_legend,lreg_legend, rf_legend,nb_legend, knn_legend,\n",
        "                     svc_legend,xgb_legend, gbc_legend])\n",
        "plt.show()"
      ],
      "execution_count": 24,
      "outputs": [
        {
          "output_type": "display_data",
          "data": {
            "image/png": "[encoded data removed]",
            "text/plain": [
              "<Figure size 504x576 with 1 Axes>"
            ]
          },
          "metadata": {
            "tags": [],
            "needs_background": "light"
          }
        }
      ]
    },
    {
      "cell_type": "code",
      "metadata": {
        "id": "ZdDLTFPZKRL0"
      },
      "source": [
        ""
      ],
      "execution_count": 24,
      "outputs": []
    }
  ]
}