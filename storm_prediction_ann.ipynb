{
  "nbformat": 4,
  "nbformat_minor": 0,
  "metadata": {
    "colab": {
      "name": "storm_prediction_ann.ipynb",
      "provenance": [],
      "toc_visible": true,
      "authorship_tag": "ABX9TyN+bxH7RCO8L5dY56B6KKxK",
      "include_colab_link": true
    },
    "kernelspec": {
      "name": "python3",
      "display_name": "Python 3"
    }
  },
  "cells": [
    {
      "cell_type": "markdown",
      "metadata": {
        "id": "view-in-github",
        "colab_type": "text"
      },
      "source": [
        "<a href=\"https://colab.research.google.com/github/youkjang/Machine-Learning-Deep-Learning-Practice/blob/main/storm_prediction_ann.ipynb\" target=\"_parent\"><img src=\"https://colab.research.google.com/assets/colab-badge.svg\" alt=\"Open In Colab\"/></a>"
      ]
    },
    {
      "cell_type": "markdown",
      "metadata": {
        "id": "vfphnKQXasKF"
      },
      "source": [
        "## Storm Prediction\n",
        "\n",
        "This notebook is based on ams-ml-python-course in reference. The artificial neural network model is used for the storm prediction.\n",
        "\n",
        "### Input variables\n",
        "- REFL_COM_mean (composite reflectivity)\n",
        "\n",
        "- U10_mean, U10_max (10 m west-east wind component in m/s)\n",
        "\n",
        "- V10_mean, V10_max (10 m south-north wind component in m/s)\n",
        "\n",
        "- T2_mean, T2_max (2 m temperature in Kelvin)\n",
        "\n",
        "### Output variables\n",
        "- Based on Vorticity, strong rotation as 1 and weak or no rotation as 0\n",
        "\n",
        "### data\n",
        "https://github.com/djgagne/ams-ml-python-course/blob/master/download_data.py\n",
        "### Reference\n",
        "https://github.com/djgagne/ams-ml-python-course/blob/master/module_3/ML_Short_Course_Module_3_Deep_Learning.ipynb\n",
        "\n",
        "1. Exploratory Data Analysis: heatmap, data description, and histogram of vorticity.\n",
        "2. Preprocessing: select inputs, split the datasets, and normalization\n",
        "3. Model training: optimize artificial neural network with training data\n",
        "4. Prediction with test data\n",
        "5. Evaluate the model with prediction and test data.  \n",
        "\n",
        "In this notebook, U10_max, V10_max, and T2_max are added as input variables. heatmap of all input varibles and vorticity for storm is plotted."
      ]
    },
    {
      "cell_type": "code",
      "metadata": {
        "id": "KCNSMK4bJ96A"
      },
      "source": [
        "import numpy as np\n",
        "import pandas as pd\n",
        "import xarray as xr\n",
        "import matplotlib.pyplot as plt\n",
        "import glob"
      ],
      "execution_count": 1,
      "outputs": []
    },
    {
      "cell_type": "markdown",
      "metadata": {
        "id": "-S5DCUyFbsrH"
      },
      "source": [
        "Load CSV file"
      ]
    },
    {
      "cell_type": "code",
      "metadata": {
        "colab": {
          "base_uri": "https://localhost:8080/"
        },
        "id": "P9_35UjGbuE-",
        "outputId": "9d8c8f01-b334-4015-b817-f7b2768f9116"
      },
      "source": [
        "csv_files = sorted(glob.glob(\"*.csv\"))\n",
        "csv_data_list = []\n",
        "for csv_file in csv_files:\n",
        "    print(csv_file)\n",
        "    csv_data_list.append(pd.read_csv(csv_file))\n",
        "csv_data = pd.concat(csv_data_list, ignore_index=True)\n",
        "del csv_data_list"
      ],
      "execution_count": 2,
      "outputs": [
        {
          "output_type": "stream",
          "text": [
            "track_step_NCARSTORM_d01_20101024-0000.csv\n",
            "track_step_NCARSTORM_d01_20101122-0000.csv\n",
            "track_step_NCARSTORM_d01_20110201-0000.csv\n",
            "track_step_NCARSTORM_d01_20110308-0000.csv\n",
            "track_step_NCARSTORM_d01_20110326-0000.csv\n",
            "track_step_NCARSTORM_d01_20110404-0000.csv\n",
            "track_step_NCARSTORM_d01_20110414-0000.csv\n",
            "track_step_NCARSTORM_d01_20110420-0000.csv\n",
            "track_step_NCARSTORM_d01_20110425-0000.csv\n",
            "track_step_NCARSTORM_d01_20110509-0000.csv\n",
            "track_step_NCARSTORM_d01_20110522-0000.csv\n",
            "track_step_NCARSTORM_d01_20110527-0000.csv\n",
            "track_step_NCARSTORM_d01_20110605-0000.csv\n",
            "track_step_NCARSTORM_d01_20110610-0000.csv\n",
            "track_step_NCARSTORM_d01_20110615-0000.csv\n",
            "track_step_NCARSTORM_d01_20110620-0000.csv\n",
            "track_step_NCARSTORM_d01_20110625-0000.csv\n",
            "track_step_NCARSTORM_d01_20110704-0000.csv\n",
            "track_step_NCARSTORM_d01_20110712-0000.csv\n",
            "track_step_NCARSTORM_d01_20111116-0000.csv\n",
            "track_step_NCARSTORM_d01_20120218-0000.csv\n",
            "track_step_NCARSTORM_d01_20120315-0000.csv\n",
            "track_step_NCARSTORM_d01_20120323-0000.csv\n",
            "track_step_NCARSTORM_d01_20120401-0000.csv\n",
            "track_step_NCARSTORM_d01_20120409-0000.csv\n",
            "track_step_NCARSTORM_d01_20120426-0000.csv\n",
            "track_step_NCARSTORM_d01_20120503-0000.csv\n",
            "track_step_NCARSTORM_d01_20120510-0000.csv\n",
            "track_step_NCARSTORM_d01_20120529-0000.csv\n",
            "track_step_NCARSTORM_d01_20120606-0000.csv\n",
            "track_step_NCARSTORM_d01_20120622-0000.csv\n",
            "track_step_NCARSTORM_d01_20120701-0000.csv\n",
            "track_step_NCARSTORM_d01_20120706-0000.csv\n",
            "track_step_NCARSTORM_d01_20120715-0000.csv\n",
            "track_step_NCARSTORM_d01_20121225-0000.csv\n",
            "track_step_NCARSTORM_d01_20130318-0000.csv\n",
            "track_step_NCARSTORM_d01_20130331-0000.csv\n",
            "track_step_NCARSTORM_d01_20130411-0000.csv\n",
            "track_step_NCARSTORM_d01_20130429-0000.csv\n",
            "track_step_NCARSTORM_d01_20130513-0000.csv\n",
            "track_step_NCARSTORM_d01_20130519-0000.csv\n",
            "track_step_NCARSTORM_d01_20130527-0000.csv\n",
            "track_step_NCARSTORM_d01_20130602-0000.csv\n",
            "track_step_NCARSTORM_d01_20130613-0000.csv\n",
            "track_step_NCARSTORM_d01_20130619-0000.csv\n",
            "track_step_NCARSTORM_d01_20130625-0000.csv\n",
            "track_step_NCARSTORM_d01_20130701-0000.csv\n",
            "track_step_NCARSTORM_d01_20130708-0000.csv\n",
            "track_step_NCARSTORM_d01_20130715-0000.csv\n",
            "track_step_NCARSTORM_d01_20140220-0000.csv\n",
            "track_step_NCARSTORM_d01_20140328-0000.csv\n",
            "track_step_NCARSTORM_d01_20140407-0000.csv\n",
            "track_step_NCARSTORM_d01_20140425-0000.csv\n",
            "track_step_NCARSTORM_d01_20140508-0000.csv\n",
            "track_step_NCARSTORM_d01_20140514-0000.csv\n",
            "track_step_NCARSTORM_d01_20140526-0000.csv\n",
            "track_step_NCARSTORM_d01_20140604-0000.csv\n",
            "track_step_NCARSTORM_d01_20140609-0000.csv\n",
            "track_step_NCARSTORM_d01_20140617-0000.csv\n",
            "track_step_NCARSTORM_d01_20140622-0000.csv\n",
            "track_step_NCARSTORM_d01_20140628-0000.csv\n",
            "track_step_NCARSTORM_d01_20140705-0000.csv\n",
            "track_step_NCARSTORM_d01_20140710-0000.csv\n",
            "track_step_NCARSTORM_d01_20141123-0000.csv\n",
            "track_step_NCARSTORM_d01_20150331-0000.csv\n",
            "track_step_NCARSTORM_d01_20150416-0000.csv\n",
            "track_step_NCARSTORM_d01_20150422-0000.csv\n",
            "track_step_NCARSTORM_d01_20150505-0000.csv\n",
            "track_step_NCARSTORM_d01_20150510-0000.csv\n",
            "track_step_NCARSTORM_d01_20150523-0000.csv\n",
            "track_step_NCARSTORM_d01_20150528-0000.csv\n",
            "track_step_NCARSTORM_d01_20150605-0000.csv\n",
            "track_step_NCARSTORM_d01_20150612-0000.csv\n",
            "track_step_NCARSTORM_d01_20150620-0000.csv\n",
            "track_step_NCARSTORM_d01_20150625-0000.csv\n",
            "track_step_NCARSTORM_d01_20150630-0000.csv\n",
            "track_step_NCARSTORM_d01_20150706-0000.csv\n",
            "track_step_NCARSTORM_d01_20150712-0000.csv\n",
            "track_step_NCARSTORM_d01_20151031-0000.csv\n",
            "track_step_NCARSTORM_d01_20151227-0000.csv\n",
            "track_step_NCARSTORM_d01_20160224-0000.csv\n",
            "track_step_NCARSTORM_d01_20160323-0000.csv\n",
            "track_step_NCARSTORM_d01_20160401-0000.csv\n",
            "track_step_NCARSTORM_d01_20160415-0000.csv\n",
            "track_step_NCARSTORM_d01_20160429-0000.csv\n",
            "track_step_NCARSTORM_d01_20160505-0000.csv\n",
            "track_step_NCARSTORM_d01_20160511-0000.csv\n",
            "track_step_NCARSTORM_d01_20160522-0000.csv\n",
            "track_step_NCARSTORM_d01_20160528-0000.csv\n",
            "track_step_NCARSTORM_d01_20160608-0000.csv\n",
            "track_step_NCARSTORM_d01_20160616-0000.csv\n",
            "track_step_NCARSTORM_d01_20160622-0000.csv\n",
            "track_step_NCARSTORM_d01_20160628-0000.csv\n",
            "track_step_NCARSTORM_d01_20160707-0000.csv\n",
            "track_step_NCARSTORM_d01_20160712-0000.csv\n",
            "track_step_NCARSTORM_d01_20161129-0000.csv\n",
            "track_step_NCARSTORM_d01_20170121-0000.csv\n",
            "track_step_NCARSTORM_d01_20170228-0000.csv\n",
            "track_step_NCARSTORM_d01_20170323-0000.csv\n",
            "track_step_NCARSTORM_d01_20170329-0000.csv\n"
          ],
          "name": "stdout"
        }
      ]
    },
    {
      "cell_type": "markdown",
      "metadata": {
        "id": "oYuuHvGkPm8b"
      },
      "source": [
        "## Exploratory Data Analysis"
      ]
    },
    {
      "cell_type": "code",
      "metadata": {
        "colab": {
          "base_uri": "https://localhost:8080/",
          "height": 413
        },
        "id": "jETLx_CcGHFT",
        "outputId": "6717b397-23e3-43d3-d473-1191045a25f0"
      },
      "source": [
        "csv_data.head()"
      ],
      "execution_count": 3,
      "outputs": [
        {
          "output_type": "execute_result",
          "data": {
            "text/html": [
              "<div>\n",
              "<style scoped>\n",
              "    .dataframe tbody tr th:only-of-type {\n",
              "        vertical-align: middle;\n",
              "    }\n",
              "\n",
              "    .dataframe tbody tr th {\n",
              "        vertical-align: top;\n",
              "    }\n",
              "\n",
              "    .dataframe thead th {\n",
              "        text-align: right;\n",
              "    }\n",
              "</style>\n",
              "<table border=\"1\" class=\"dataframe\">\n",
              "  <thead>\n",
              "    <tr style=\"text-align: right;\">\n",
              "      <th></th>\n",
              "      <th>Step_ID</th>\n",
              "      <th>Track_ID</th>\n",
              "      <th>Ensemble_Name</th>\n",
              "      <th>Ensemble_Member</th>\n",
              "      <th>Run_Date</th>\n",
              "      <th>Valid_Date</th>\n",
              "      <th>Forecast_Hour</th>\n",
              "      <th>Valid_Hour_UTC</th>\n",
              "      <th>Duration</th>\n",
              "      <th>Centroid_Lon</th>\n",
              "      <th>Centroid_Lat</th>\n",
              "      <th>Centroid_X</th>\n",
              "      <th>Centroid_Y</th>\n",
              "      <th>Storm_Motion_U</th>\n",
              "      <th>Storm_Motion_V</th>\n",
              "      <th>REFL_COM_mean</th>\n",
              "      <th>REFL_COM_max</th>\n",
              "      <th>REFL_COM_min</th>\n",
              "      <th>REFL_COM_std</th>\n",
              "      <th>REFL_COM_percentile_10</th>\n",
              "      <th>REFL_COM_percentile_25</th>\n",
              "      <th>REFL_COM_percentile_50</th>\n",
              "      <th>REFL_COM_percentile_75</th>\n",
              "      <th>REFL_COM_percentile_90</th>\n",
              "      <th>U10_mean</th>\n",
              "      <th>U10_max</th>\n",
              "      <th>U10_min</th>\n",
              "      <th>U10_std</th>\n",
              "      <th>U10_percentile_10</th>\n",
              "      <th>U10_percentile_25</th>\n",
              "      <th>U10_percentile_50</th>\n",
              "      <th>U10_percentile_75</th>\n",
              "      <th>U10_percentile_90</th>\n",
              "      <th>V10_mean</th>\n",
              "      <th>V10_max</th>\n",
              "      <th>V10_min</th>\n",
              "      <th>V10_std</th>\n",
              "      <th>V10_percentile_10</th>\n",
              "      <th>V10_percentile_25</th>\n",
              "      <th>V10_percentile_50</th>\n",
              "      <th>V10_percentile_75</th>\n",
              "      <th>V10_percentile_90</th>\n",
              "      <th>T2_mean</th>\n",
              "      <th>T2_max</th>\n",
              "      <th>T2_min</th>\n",
              "      <th>T2_std</th>\n",
              "      <th>T2_percentile_10</th>\n",
              "      <th>T2_percentile_25</th>\n",
              "      <th>T2_percentile_50</th>\n",
              "      <th>T2_percentile_75</th>\n",
              "      <th>T2_percentile_90</th>\n",
              "      <th>RVORT1_MAX-future_mean</th>\n",
              "      <th>RVORT1_MAX-future_max</th>\n",
              "      <th>RVORT1_MAX-future_min</th>\n",
              "      <th>RVORT1_MAX-future_std</th>\n",
              "      <th>RVORT1_MAX-future_percentile_10</th>\n",
              "      <th>RVORT1_MAX-future_percentile_25</th>\n",
              "      <th>RVORT1_MAX-future_percentile_50</th>\n",
              "      <th>RVORT1_MAX-future_percentile_75</th>\n",
              "      <th>RVORT1_MAX-future_percentile_90</th>\n",
              "      <th>HAIL_MAXK1-future_mean</th>\n",
              "      <th>HAIL_MAXK1-future_max</th>\n",
              "      <th>HAIL_MAXK1-future_min</th>\n",
              "      <th>HAIL_MAXK1-future_std</th>\n",
              "      <th>HAIL_MAXK1-future_percentile_10</th>\n",
              "      <th>HAIL_MAXK1-future_percentile_25</th>\n",
              "      <th>HAIL_MAXK1-future_percentile_50</th>\n",
              "      <th>HAIL_MAXK1-future_percentile_75</th>\n",
              "      <th>HAIL_MAXK1-future_percentile_90</th>\n",
              "      <th>area</th>\n",
              "      <th>eccentricity</th>\n",
              "      <th>major_axis_length</th>\n",
              "      <th>minor_axis_length</th>\n",
              "      <th>orientation</th>\n",
              "      <th>Matched</th>\n",
              "      <th>Max_Hail_Size</th>\n",
              "      <th>Num_Matches</th>\n",
              "      <th>Shape</th>\n",
              "      <th>Location</th>\n",
              "      <th>Scale</th>\n",
              "    </tr>\n",
              "  </thead>\n",
              "  <tbody>\n",
              "    <tr>\n",
              "      <th>0</th>\n",
              "      <td>d01_REFL_COM_20101024-0000_12_12_000_00</td>\n",
              "      <td>d01_REFL_COM_20101024-0000_12_12_000</td>\n",
              "      <td>NCARSTORM</td>\n",
              "      <td>d01</td>\n",
              "      <td>2010-10-24 00:00:00</td>\n",
              "      <td>2010-10-24 12:00:00</td>\n",
              "      <td>12</td>\n",
              "      <td>12</td>\n",
              "      <td>1</td>\n",
              "      <td>-93.43888</td>\n",
              "      <td>31.44266</td>\n",
              "      <td>717223.93951</td>\n",
              "      <td>-733313.11177</td>\n",
              "      <td>0.0</td>\n",
              "      <td>0.0</td>\n",
              "      <td>42.71822</td>\n",
              "      <td>43.67072</td>\n",
              "      <td>40.97010</td>\n",
              "      <td>0.96199</td>\n",
              "      <td>41.41314</td>\n",
              "      <td>41.91508</td>\n",
              "      <td>42.97249</td>\n",
              "      <td>43.62384</td>\n",
              "      <td>43.63801</td>\n",
              "      <td>0.19710</td>\n",
              "      <td>0.86864</td>\n",
              "      <td>-0.46319</td>\n",
              "      <td>0.44857</td>\n",
              "      <td>-0.29858</td>\n",
              "      <td>-0.17834</td>\n",
              "      <td>0.27611</td>\n",
              "      <td>0.66999</td>\n",
              "      <td>0.71307</td>\n",
              "      <td>5.32790</td>\n",
              "      <td>7.17355</td>\n",
              "      <td>3.53556</td>\n",
              "      <td>1.37479</td>\n",
              "      <td>3.57072</td>\n",
              "      <td>4.28456</td>\n",
              "      <td>4.78568</td>\n",
              "      <td>6.74275</td>\n",
              "      <td>7.10965</td>\n",
              "      <td>293.14920</td>\n",
              "      <td>293.22021</td>\n",
              "      <td>293.05215</td>\n",
              "      <td>0.06001</td>\n",
              "      <td>293.05662</td>\n",
              "      <td>293.12073</td>\n",
              "      <td>293.17340</td>\n",
              "      <td>293.20276</td>\n",
              "      <td>293.21045</td>\n",
              "      <td>0.00028</td>\n",
              "      <td>0.00035</td>\n",
              "      <td>0.00021</td>\n",
              "      <td>0.00004</td>\n",
              "      <td>0.00024</td>\n",
              "      <td>0.00026</td>\n",
              "      <td>0.00027</td>\n",
              "      <td>0.00029</td>\n",
              "      <td>0.00033</td>\n",
              "      <td>0.0</td>\n",
              "      <td>0.0</td>\n",
              "      <td>0.0</td>\n",
              "      <td>0.0</td>\n",
              "      <td>0.0</td>\n",
              "      <td>0.0</td>\n",
              "      <td>0.0</td>\n",
              "      <td>0.0</td>\n",
              "      <td>0.0</td>\n",
              "      <td>9</td>\n",
              "      <td>0.78628</td>\n",
              "      <td>4.27766</td>\n",
              "      <td>2.64302</td>\n",
              "      <td>-0.10555</td>\n",
              "      <td>0</td>\n",
              "      <td>0</td>\n",
              "      <td>0</td>\n",
              "      <td>0</td>\n",
              "      <td>0</td>\n",
              "      <td>0</td>\n",
              "    </tr>\n",
              "    <tr>\n",
              "      <th>1</th>\n",
              "      <td>d01_REFL_COM_20101024-0000_12_12_001_00</td>\n",
              "      <td>d01_REFL_COM_20101024-0000_12_12_001</td>\n",
              "      <td>NCARSTORM</td>\n",
              "      <td>d01</td>\n",
              "      <td>2010-10-24 00:00:00</td>\n",
              "      <td>2010-10-24 12:00:00</td>\n",
              "      <td>12</td>\n",
              "      <td>12</td>\n",
              "      <td>1</td>\n",
              "      <td>-93.06068</td>\n",
              "      <td>32.33814</td>\n",
              "      <td>744315.06633</td>\n",
              "      <td>-631051.55216</td>\n",
              "      <td>0.0</td>\n",
              "      <td>0.0</td>\n",
              "      <td>47.09285</td>\n",
              "      <td>54.19151</td>\n",
              "      <td>40.63351</td>\n",
              "      <td>3.34380</td>\n",
              "      <td>43.27050</td>\n",
              "      <td>44.62197</td>\n",
              "      <td>46.86275</td>\n",
              "      <td>49.64786</td>\n",
              "      <td>51.59267</td>\n",
              "      <td>-1.03154</td>\n",
              "      <td>-0.08395</td>\n",
              "      <td>-2.00645</td>\n",
              "      <td>0.48773</td>\n",
              "      <td>-1.62877</td>\n",
              "      <td>-1.32586</td>\n",
              "      <td>-1.08810</td>\n",
              "      <td>-0.79851</td>\n",
              "      <td>-0.28629</td>\n",
              "      <td>5.33612</td>\n",
              "      <td>7.07514</td>\n",
              "      <td>2.15228</td>\n",
              "      <td>1.44588</td>\n",
              "      <td>3.16599</td>\n",
              "      <td>4.44680</td>\n",
              "      <td>5.65116</td>\n",
              "      <td>6.44384</td>\n",
              "      <td>6.84668</td>\n",
              "      <td>292.00092</td>\n",
              "      <td>292.31110</td>\n",
              "      <td>291.73080</td>\n",
              "      <td>0.15644</td>\n",
              "      <td>291.81573</td>\n",
              "      <td>291.87878</td>\n",
              "      <td>291.98325</td>\n",
              "      <td>292.14569</td>\n",
              "      <td>292.21041</td>\n",
              "      <td>0.00153</td>\n",
              "      <td>0.00195</td>\n",
              "      <td>0.00068</td>\n",
              "      <td>0.00040</td>\n",
              "      <td>0.00085</td>\n",
              "      <td>0.00127</td>\n",
              "      <td>0.00170</td>\n",
              "      <td>0.00184</td>\n",
              "      <td>0.00191</td>\n",
              "      <td>0.0</td>\n",
              "      <td>0.0</td>\n",
              "      <td>0.0</td>\n",
              "      <td>0.0</td>\n",
              "      <td>0.0</td>\n",
              "      <td>0.0</td>\n",
              "      <td>0.0</td>\n",
              "      <td>0.0</td>\n",
              "      <td>0.0</td>\n",
              "      <td>35</td>\n",
              "      <td>0.47108</td>\n",
              "      <td>7.07588</td>\n",
              "      <td>6.24158</td>\n",
              "      <td>-1.33266</td>\n",
              "      <td>0</td>\n",
              "      <td>0</td>\n",
              "      <td>0</td>\n",
              "      <td>0</td>\n",
              "      <td>0</td>\n",
              "      <td>0</td>\n",
              "    </tr>\n",
              "    <tr>\n",
              "      <th>2</th>\n",
              "      <td>d01_REFL_COM_20101024-0000_12_15_002_00</td>\n",
              "      <td>d01_REFL_COM_20101024-0000_12_15_002</td>\n",
              "      <td>NCARSTORM</td>\n",
              "      <td>d01</td>\n",
              "      <td>2010-10-24 00:00:00</td>\n",
              "      <td>2010-10-24 12:00:00</td>\n",
              "      <td>12</td>\n",
              "      <td>12</td>\n",
              "      <td>1</td>\n",
              "      <td>-93.65033</td>\n",
              "      <td>32.43676</td>\n",
              "      <td>688274.83172</td>\n",
              "      <td>-624784.64092</td>\n",
              "      <td>0.0</td>\n",
              "      <td>0.0</td>\n",
              "      <td>45.53852</td>\n",
              "      <td>48.22308</td>\n",
              "      <td>40.77723</td>\n",
              "      <td>1.97809</td>\n",
              "      <td>42.59812</td>\n",
              "      <td>44.32117</td>\n",
              "      <td>45.83910</td>\n",
              "      <td>47.22936</td>\n",
              "      <td>47.66140</td>\n",
              "      <td>-0.21393</td>\n",
              "      <td>2.30970</td>\n",
              "      <td>-1.64158</td>\n",
              "      <td>0.90139</td>\n",
              "      <td>-1.27495</td>\n",
              "      <td>-0.81603</td>\n",
              "      <td>-0.36890</td>\n",
              "      <td>0.24072</td>\n",
              "      <td>0.98897</td>\n",
              "      <td>1.99015</td>\n",
              "      <td>5.40622</td>\n",
              "      <td>-2.73531</td>\n",
              "      <td>2.65494</td>\n",
              "      <td>-1.35803</td>\n",
              "      <td>-0.36154</td>\n",
              "      <td>2.77814</td>\n",
              "      <td>4.82195</td>\n",
              "      <td>5.23079</td>\n",
              "      <td>293.00864</td>\n",
              "      <td>293.55157</td>\n",
              "      <td>292.49957</td>\n",
              "      <td>0.32322</td>\n",
              "      <td>292.61641</td>\n",
              "      <td>292.71604</td>\n",
              "      <td>293.00183</td>\n",
              "      <td>293.26897</td>\n",
              "      <td>293.48459</td>\n",
              "      <td>0.00161</td>\n",
              "      <td>0.00241</td>\n",
              "      <td>0.00087</td>\n",
              "      <td>0.00048</td>\n",
              "      <td>0.00102</td>\n",
              "      <td>0.00121</td>\n",
              "      <td>0.00146</td>\n",
              "      <td>0.00207</td>\n",
              "      <td>0.00231</td>\n",
              "      <td>0.0</td>\n",
              "      <td>0.0</td>\n",
              "      <td>0.0</td>\n",
              "      <td>0.0</td>\n",
              "      <td>0.0</td>\n",
              "      <td>0.0</td>\n",
              "      <td>0.0</td>\n",
              "      <td>0.0</td>\n",
              "      <td>0.0</td>\n",
              "      <td>36</td>\n",
              "      <td>0.87636</td>\n",
              "      <td>9.90123</td>\n",
              "      <td>4.76900</td>\n",
              "      <td>-0.10405</td>\n",
              "      <td>0</td>\n",
              "      <td>0</td>\n",
              "      <td>0</td>\n",
              "      <td>0</td>\n",
              "      <td>0</td>\n",
              "      <td>0</td>\n",
              "    </tr>\n",
              "    <tr>\n",
              "      <th>3</th>\n",
              "      <td>d01_REFL_COM_20101024-0000_12_15_002_01</td>\n",
              "      <td>d01_REFL_COM_20101024-0000_12_15_002</td>\n",
              "      <td>NCARSTORM</td>\n",
              "      <td>d01</td>\n",
              "      <td>2010-10-24 00:00:00</td>\n",
              "      <td>2010-10-24 13:00:00</td>\n",
              "      <td>13</td>\n",
              "      <td>13</td>\n",
              "      <td>2</td>\n",
              "      <td>-93.28486</td>\n",
              "      <td>32.61097</td>\n",
              "      <td>720778.55632</td>\n",
              "      <td>-602667.71249</td>\n",
              "      <td>33000.0</td>\n",
              "      <td>21000.0</td>\n",
              "      <td>44.30976</td>\n",
              "      <td>47.98366</td>\n",
              "      <td>41.44846</td>\n",
              "      <td>1.61085</td>\n",
              "      <td>42.41405</td>\n",
              "      <td>43.40802</td>\n",
              "      <td>43.90155</td>\n",
              "      <td>45.34798</td>\n",
              "      <td>46.96363</td>\n",
              "      <td>1.27862</td>\n",
              "      <td>2.77090</td>\n",
              "      <td>-0.89391</td>\n",
              "      <td>0.93614</td>\n",
              "      <td>-0.03528</td>\n",
              "      <td>0.77566</td>\n",
              "      <td>1.39530</td>\n",
              "      <td>1.93714</td>\n",
              "      <td>2.37438</td>\n",
              "      <td>1.81628</td>\n",
              "      <td>6.85102</td>\n",
              "      <td>-1.48919</td>\n",
              "      <td>2.41741</td>\n",
              "      <td>-0.93601</td>\n",
              "      <td>-0.23556</td>\n",
              "      <td>1.29246</td>\n",
              "      <td>3.49259</td>\n",
              "      <td>5.38372</td>\n",
              "      <td>292.64368</td>\n",
              "      <td>293.38519</td>\n",
              "      <td>292.04929</td>\n",
              "      <td>0.38983</td>\n",
              "      <td>292.12880</td>\n",
              "      <td>292.26558</td>\n",
              "      <td>292.66022</td>\n",
              "      <td>292.91397</td>\n",
              "      <td>293.20261</td>\n",
              "      <td>0.00169</td>\n",
              "      <td>0.00233</td>\n",
              "      <td>0.00039</td>\n",
              "      <td>0.00041</td>\n",
              "      <td>0.00130</td>\n",
              "      <td>0.00149</td>\n",
              "      <td>0.00166</td>\n",
              "      <td>0.00199</td>\n",
              "      <td>0.00225</td>\n",
              "      <td>0.0</td>\n",
              "      <td>0.0</td>\n",
              "      <td>0.0</td>\n",
              "      <td>0.0</td>\n",
              "      <td>0.0</td>\n",
              "      <td>0.0</td>\n",
              "      <td>0.0</td>\n",
              "      <td>0.0</td>\n",
              "      <td>0.0</td>\n",
              "      <td>39</td>\n",
              "      <td>0.97896</td>\n",
              "      <td>16.76704</td>\n",
              "      <td>3.42129</td>\n",
              "      <td>-0.71430</td>\n",
              "      <td>0</td>\n",
              "      <td>0</td>\n",
              "      <td>0</td>\n",
              "      <td>0</td>\n",
              "      <td>0</td>\n",
              "      <td>0</td>\n",
              "    </tr>\n",
              "    <tr>\n",
              "      <th>4</th>\n",
              "      <td>d01_REFL_COM_20101024-0000_12_15_002_02</td>\n",
              "      <td>d01_REFL_COM_20101024-0000_12_15_002</td>\n",
              "      <td>NCARSTORM</td>\n",
              "      <td>d01</td>\n",
              "      <td>2010-10-24 00:00:00</td>\n",
              "      <td>2010-10-24 14:00:00</td>\n",
              "      <td>14</td>\n",
              "      <td>14</td>\n",
              "      <td>3</td>\n",
              "      <td>-92.73067</td>\n",
              "      <td>32.97272</td>\n",
              "      <td>768763.00418</td>\n",
              "      <td>-558122.95061</td>\n",
              "      <td>51000.0</td>\n",
              "      <td>48000.0</td>\n",
              "      <td>44.64383</td>\n",
              "      <td>50.23818</td>\n",
              "      <td>41.77694</td>\n",
              "      <td>2.45656</td>\n",
              "      <td>42.25287</td>\n",
              "      <td>42.95226</td>\n",
              "      <td>43.55742</td>\n",
              "      <td>45.76885</td>\n",
              "      <td>48.53609</td>\n",
              "      <td>0.88129</td>\n",
              "      <td>2.25242</td>\n",
              "      <td>-0.20361</td>\n",
              "      <td>0.73715</td>\n",
              "      <td>0.08889</td>\n",
              "      <td>0.27481</td>\n",
              "      <td>0.61899</td>\n",
              "      <td>1.34384</td>\n",
              "      <td>2.07507</td>\n",
              "      <td>4.33189</td>\n",
              "      <td>6.31137</td>\n",
              "      <td>2.37522</td>\n",
              "      <td>0.91467</td>\n",
              "      <td>3.30502</td>\n",
              "      <td>3.53554</td>\n",
              "      <td>4.36524</td>\n",
              "      <td>4.99353</td>\n",
              "      <td>5.42180</td>\n",
              "      <td>292.39392</td>\n",
              "      <td>294.40363</td>\n",
              "      <td>292.11288</td>\n",
              "      <td>0.45250</td>\n",
              "      <td>292.13662</td>\n",
              "      <td>292.20366</td>\n",
              "      <td>292.27325</td>\n",
              "      <td>292.39474</td>\n",
              "      <td>292.60328</td>\n",
              "      <td>0.00128</td>\n",
              "      <td>0.00254</td>\n",
              "      <td>0.00048</td>\n",
              "      <td>0.00058</td>\n",
              "      <td>0.00077</td>\n",
              "      <td>0.00089</td>\n",
              "      <td>0.00108</td>\n",
              "      <td>0.00155</td>\n",
              "      <td>0.00226</td>\n",
              "      <td>0.0</td>\n",
              "      <td>0.0</td>\n",
              "      <td>0.0</td>\n",
              "      <td>0.0</td>\n",
              "      <td>0.0</td>\n",
              "      <td>0.0</td>\n",
              "      <td>0.0</td>\n",
              "      <td>0.0</td>\n",
              "      <td>0.0</td>\n",
              "      <td>23</td>\n",
              "      <td>0.94226</td>\n",
              "      <td>9.77854</td>\n",
              "      <td>3.27479</td>\n",
              "      <td>-0.91437</td>\n",
              "      <td>0</td>\n",
              "      <td>0</td>\n",
              "      <td>0</td>\n",
              "      <td>0</td>\n",
              "      <td>0</td>\n",
              "      <td>0</td>\n",
              "    </tr>\n",
              "  </tbody>\n",
              "</table>\n",
              "</div>"
            ],
            "text/plain": [
              "                                   Step_ID  ... Scale\n",
              "0  d01_REFL_COM_20101024-0000_12_12_000_00  ...     0\n",
              "1  d01_REFL_COM_20101024-0000_12_12_001_00  ...     0\n",
              "2  d01_REFL_COM_20101024-0000_12_15_002_00  ...     0\n",
              "3  d01_REFL_COM_20101024-0000_12_15_002_01  ...     0\n",
              "4  d01_REFL_COM_20101024-0000_12_15_002_02  ...     0\n",
              "\n",
              "[5 rows x 80 columns]"
            ]
          },
          "metadata": {
            "tags": []
          },
          "execution_count": 3
        }
      ]
    },
    {
      "cell_type": "markdown",
      "metadata": {
        "id": "99zu0QRO2zLv"
      },
      "source": [
        "Heatmap"
      ]
    },
    {
      "cell_type": "code",
      "metadata": {
        "colab": {
          "base_uri": "https://localhost:8080/",
          "height": 821
        },
        "id": "SITNG7ZJPprM",
        "outputId": "10ce8c2d-7cad-4a9b-c43d-f2dd61bd187d"
      },
      "source": [
        "import seaborn as sns\n",
        "\n",
        "sel_columns = [\"REFL_COM_mean\", \"U10_mean\", \"V10_mean\", \"T2_mean\",\"RVORT1_MAX-future_max\",\n",
        "               \"U10_max\",\"V10_max\",\"T2_max\"]\n",
        "\n",
        "df1 = csv_data[sel_columns]\n",
        "\n",
        "plt.figure(figsize=(12,12))\n",
        "sns.heatmap(df1.corr(),annot=True,cmap='YlGnBu')\n",
        "plt.show()"
      ],
      "execution_count": 4,
      "outputs": [
        {
          "output_type": "display_data",
          "data": {
            "image/png": "[encoded data removed]",
            "text/plain": [
              "<Figure size 864x864 with 2 Axes>"
            ]
          },
          "metadata": {
            "tags": [],
            "needs_background": "light"
          }
        }
      ]
    },
    {
      "cell_type": "code",
      "metadata": {
        "colab": {
          "base_uri": "https://localhost:8080/",
          "height": 331
        },
        "id": "1tHzyjQSJqR9",
        "outputId": "c3af4416-b6bd-4938-eb9a-a27717eed479"
      },
      "source": [
        "df1.describe()"
      ],
      "execution_count": 5,
      "outputs": [
        {
          "output_type": "execute_result",
          "data": {
            "text/html": [
              "<div>\n",
              "<style scoped>\n",
              "    .dataframe tbody tr th:only-of-type {\n",
              "        vertical-align: middle;\n",
              "    }\n",
              "\n",
              "    .dataframe tbody tr th {\n",
              "        vertical-align: top;\n",
              "    }\n",
              "\n",
              "    .dataframe thead th {\n",
              "        text-align: right;\n",
              "    }\n",
              "</style>\n",
              "<table border=\"1\" class=\"dataframe\">\n",
              "  <thead>\n",
              "    <tr style=\"text-align: right;\">\n",
              "      <th></th>\n",
              "      <th>REFL_COM_mean</th>\n",
              "      <th>U10_mean</th>\n",
              "      <th>V10_mean</th>\n",
              "      <th>T2_mean</th>\n",
              "      <th>RVORT1_MAX-future_max</th>\n",
              "      <th>U10_max</th>\n",
              "      <th>V10_max</th>\n",
              "      <th>T2_max</th>\n",
              "    </tr>\n",
              "  </thead>\n",
              "  <tbody>\n",
              "    <tr>\n",
              "      <th>count</th>\n",
              "      <td>121137.000000</td>\n",
              "      <td>121137.000000</td>\n",
              "      <td>121137.00000</td>\n",
              "      <td>121137.000000</td>\n",
              "      <td>121137.000000</td>\n",
              "      <td>121137.000000</td>\n",
              "      <td>121137.000000</td>\n",
              "      <td>121137.000000</td>\n",
              "    </tr>\n",
              "    <tr>\n",
              "      <th>mean</th>\n",
              "      <td>46.890579</td>\n",
              "      <td>0.327331</td>\n",
              "      <td>0.36504</td>\n",
              "      <td>289.465444</td>\n",
              "      <td>0.001931</td>\n",
              "      <td>3.662725</td>\n",
              "      <td>3.726053</td>\n",
              "      <td>290.743973</td>\n",
              "    </tr>\n",
              "    <tr>\n",
              "      <th>std</th>\n",
              "      <td>4.011562</td>\n",
              "      <td>4.251063</td>\n",
              "      <td>4.51375</td>\n",
              "      <td>6.963805</td>\n",
              "      <td>0.001565</td>\n",
              "      <td>5.206921</td>\n",
              "      <td>5.126733</td>\n",
              "      <td>7.168981</td>\n",
              "    </tr>\n",
              "    <tr>\n",
              "      <th>min</th>\n",
              "      <td>40.082820</td>\n",
              "      <td>-18.653700</td>\n",
              "      <td>-24.14743</td>\n",
              "      <td>262.921600</td>\n",
              "      <td>0.000000</td>\n",
              "      <td>-17.770740</td>\n",
              "      <td>-20.794570</td>\n",
              "      <td>263.147280</td>\n",
              "    </tr>\n",
              "    <tr>\n",
              "      <th>25%</th>\n",
              "      <td>43.788780</td>\n",
              "      <td>-2.449740</td>\n",
              "      <td>-2.48763</td>\n",
              "      <td>285.292210</td>\n",
              "      <td>0.000840</td>\n",
              "      <td>0.155720</td>\n",
              "      <td>0.537950</td>\n",
              "      <td>286.378970</td>\n",
              "    </tr>\n",
              "    <tr>\n",
              "      <th>50%</th>\n",
              "      <td>46.216210</td>\n",
              "      <td>0.274450</td>\n",
              "      <td>0.49327</td>\n",
              "      <td>290.714110</td>\n",
              "      <td>0.001540</td>\n",
              "      <td>3.500480</td>\n",
              "      <td>3.928650</td>\n",
              "      <td>291.790130</td>\n",
              "    </tr>\n",
              "    <tr>\n",
              "      <th>75%</th>\n",
              "      <td>49.183690</td>\n",
              "      <td>3.085180</td>\n",
              "      <td>3.35748</td>\n",
              "      <td>294.436310</td>\n",
              "      <td>0.002560</td>\n",
              "      <td>6.973020</td>\n",
              "      <td>7.103150</td>\n",
              "      <td>295.777500</td>\n",
              "    </tr>\n",
              "    <tr>\n",
              "      <th>max</th>\n",
              "      <td>69.642850</td>\n",
              "      <td>19.686640</td>\n",
              "      <td>18.61693</td>\n",
              "      <td>314.625730</td>\n",
              "      <td>0.023830</td>\n",
              "      <td>32.707960</td>\n",
              "      <td>31.773330</td>\n",
              "      <td>317.685700</td>\n",
              "    </tr>\n",
              "  </tbody>\n",
              "</table>\n",
              "</div>"
            ],
            "text/plain": [
              "       REFL_COM_mean       U10_mean  ...        V10_max         T2_max\n",
              "count  121137.000000  121137.000000  ...  121137.000000  121137.000000\n",
              "mean       46.890579       0.327331  ...       3.726053     290.743973\n",
              "std         4.011562       4.251063  ...       5.126733       7.168981\n",
              "min        40.082820     -18.653700  ...     -20.794570     263.147280\n",
              "25%        43.788780      -2.449740  ...       0.537950     286.378970\n",
              "50%        46.216210       0.274450  ...       3.928650     291.790130\n",
              "75%        49.183690       3.085180  ...       7.103150     295.777500\n",
              "max        69.642850      19.686640  ...      31.773330     317.685700\n",
              "\n",
              "[8 rows x 8 columns]"
            ]
          },
          "metadata": {
            "tags": []
          },
          "execution_count": 5
        }
      ]
    },
    {
      "cell_type": "markdown",
      "metadata": {
        "id": "G9fbxBHrGND9"
      },
      "source": [
        "RVORT1_MAX-future_max\n",
        "\n"
      ]
    },
    {
      "cell_type": "code",
      "metadata": {
        "colab": {
          "base_uri": "https://localhost:8080/",
          "height": 352
        },
        "id": "zz0zaO3QEclP",
        "outputId": "a4d00b7c-0c50-4e5b-a9a9-82bbc46fb791"
      },
      "source": [
        "plt.hist(csv_data['RVORT1_MAX-future_max'])"
      ],
      "execution_count": 6,
      "outputs": [
        {
          "output_type": "execute_result",
          "data": {
            "text/plain": [
              "(array([8.6860e+04, 2.7458e+04, 5.2730e+03, 1.1670e+03, 3.0400e+02,\n",
              "        5.7000e+01, 1.2000e+01, 5.0000e+00, 0.0000e+00, 1.0000e+00]),\n",
              " array([0.      , 0.002383, 0.004766, 0.007149, 0.009532, 0.011915,\n",
              "        0.014298, 0.016681, 0.019064, 0.021447, 0.02383 ]),\n",
              " <a list of 10 Patch objects>)"
            ]
          },
          "metadata": {
            "tags": []
          },
          "execution_count": 6
        },
        {
          "output_type": "display_data",
          "data": {
            "image/png": "[encoded data removed]",
            "text/plain": [
              "<Figure size 432x288 with 1 Axes>"
            ]
          },
          "metadata": {
            "tags": [],
            "needs_background": "light"
          }
        }
      ]
    },
    {
      "cell_type": "markdown",
      "metadata": {
        "id": "ubDUny8NGUhM"
      },
      "source": [
        "## Pre-Processing for Deep Learning\n",
        "## Select Variables\n",
        "- input & output variables"
      ]
    },
    {
      "cell_type": "code",
      "metadata": {
        "id": "IJPw2MjSlLyk"
      },
      "source": [
        "input_columns = [\"REFL_COM_mean\", \"U10_mean\", \"V10_mean\", \"T2_mean\",\n",
        "                 \"U10_max\", \"V10_max\", \"T2_max\"]\n",
        "output_column = \"RVORT1_MAX-future_max\""
      ],
      "execution_count": 7,
      "outputs": []
    },
    {
      "cell_type": "markdown",
      "metadata": {
        "id": "RBvujKAimoLJ"
      },
      "source": [
        "## Split dataset into trainning and test data"
      ]
    },
    {
      "cell_type": "code",
      "metadata": {
        "id": "46Xfx-CRsf8g"
      },
      "source": [
        "train_test_date = pd.Timestamp(\"2015-01-01\")\n",
        "valid_dates = pd.DatetimeIndex(csv_data[\"Valid_Date\"])"
      ],
      "execution_count": 8,
      "outputs": []
    },
    {
      "cell_type": "markdown",
      "metadata": {
        "id": "_YXz5TwmlZuo"
      },
      "source": [
        "- vorticity threshold in $s^{-1}$"
      ]
    },
    {
      "cell_type": "code",
      "metadata": {
        "id": "uPPVXWtamBtB"
      },
      "source": [
        "out_threshold = 0.005"
      ],
      "execution_count": 9,
      "outputs": []
    },
    {
      "cell_type": "markdown",
      "metadata": {
        "id": "sh1nc8LEshln"
      },
      "source": [
        "- Input training data : 2010-10-24 ~ 2014-11-24\n",
        "- Output (Label) : RVORT1_MAX-future_max, strong rotation as 1 and weak or no rotation as 0"
      ]
    },
    {
      "cell_type": "code",
      "metadata": {
        "id": "cOMLArAUstR7"
      },
      "source": [
        "train_data = csv_data.loc[valid_dates < train_test_date, input_columns]\n",
        "\n",
        "train_out = np.where(csv_data.loc[valid_dates < train_test_date, output_column] > out_threshold, 1, 0)"
      ],
      "execution_count": 10,
      "outputs": []
    },
    {
      "cell_type": "markdown",
      "metadata": {
        "id": "TWR9CmCHuBMf"
      },
      "source": [
        "- Input test data: 2015-3-31 ~ 2017-3-30\n",
        "- Output test: strong rotation as 1 and weak or no rotation as 0"
      ]
    },
    {
      "cell_type": "code",
      "metadata": {
        "id": "N2G1O39hbfg8"
      },
      "source": [
        "test_data = csv_data.loc[valid_dates >= train_test_date, input_columns]\n",
        "\n",
        "test_out = np.where(csv_data.loc[valid_dates >= train_test_date, output_column] > out_threshold, 1, 0)"
      ],
      "execution_count": 11,
      "outputs": []
    },
    {
      "cell_type": "markdown",
      "metadata": {
        "id": "okBSmIZAGjT8"
      },
      "source": [
        "## Normalize Input for Neural Network"
      ]
    },
    {
      "cell_type": "code",
      "metadata": {
        "colab": {
          "base_uri": "https://localhost:8080/"
        },
        "id": "QLIYqrTDFUfa",
        "outputId": "17f86aca-e980-4e15-b717-15d93ac9c622"
      },
      "source": [
        "from sklearn.preprocessing import StandardScaler\n",
        "\n",
        "scaler = StandardScaler()\n",
        "train_norm = scaler.fit_transform(train_data)\n",
        "test_norm = scaler.transform(test_data)\n",
        "for i, input_col in enumerate(input_columns):\n",
        "    print(f\"{input_columns[i]:13s} Mean: {scaler.mean_[i]:0.3f} SD: {scaler.scale_[i]:0.3f}\")"
      ],
      "execution_count": 12,
      "outputs": [
        {
          "output_type": "stream",
          "text": [
            "REFL_COM_mean Mean: 46.847 SD: 3.984\n",
            "U10_mean      Mean: 0.450 SD: 4.348\n",
            "V10_mean      Mean: 0.543 SD: 4.462\n",
            "T2_mean       Mean: 289.409 SD: 6.932\n",
            "U10_max       Mean: 3.764 SD: 5.261\n",
            "V10_max       Mean: 3.898 SD: 5.066\n",
            "T2_max        Mean: 290.693 SD: 7.124\n"
          ],
          "name": "stdout"
        }
      ]
    },
    {
      "cell_type": "markdown",
      "metadata": {
        "id": "POOiI45xLDOB"
      },
      "source": [
        "## Artificial Neural Network"
      ]
    },
    {
      "cell_type": "code",
      "metadata": {
        "id": "NTwD_UopQuHy"
      },
      "source": [
        "import tensorflow as tf"
      ],
      "execution_count": 13,
      "outputs": []
    },
    {
      "cell_type": "markdown",
      "metadata": {
        "id": "Zd3PrCwOLfO-"
      },
      "source": [
        "Initializing the ANN"
      ]
    },
    {
      "cell_type": "code",
      "metadata": {
        "id": "0Kti-3hWMAgi"
      },
      "source": [
        "ann = tf.keras.models.Sequential()"
      ],
      "execution_count": 14,
      "outputs": []
    },
    {
      "cell_type": "markdown",
      "metadata": {
        "id": "Mr_1LkVaMDdW"
      },
      "source": [
        "Adding the input layer and the first hidden layer"
      ]
    },
    {
      "cell_type": "code",
      "metadata": {
        "id": "AACv_valMLOp"
      },
      "source": [
        "ann.add(tf.keras.layers.Dense(units = 6, activation='relu',input_shape=[7]))"
      ],
      "execution_count": 15,
      "outputs": []
    },
    {
      "cell_type": "markdown",
      "metadata": {
        "id": "u6xhDKmfY-1y"
      },
      "source": [
        "Adding the second hidden layer"
      ]
    },
    {
      "cell_type": "code",
      "metadata": {
        "id": "JufqNrlOZBWG"
      },
      "source": [
        "ann.add(tf.keras.layers.Dense(units=6, activation='relu'))"
      ],
      "execution_count": 16,
      "outputs": []
    },
    {
      "cell_type": "markdown",
      "metadata": {
        "id": "yiOoVk7PMPjH"
      },
      "source": [
        "Output layer"
      ]
    },
    {
      "cell_type": "code",
      "metadata": {
        "id": "45W00zPmMSbL"
      },
      "source": [
        "ann.add(tf.keras.layers.Dense(units=1, activation='sigmoid'))"
      ],
      "execution_count": 17,
      "outputs": []
    },
    {
      "cell_type": "markdown",
      "metadata": {
        "id": "Ye15xJiQMt7n"
      },
      "source": [
        "Compile the model"
      ]
    },
    {
      "cell_type": "code",
      "metadata": {
        "id": "FKFtmL8fMwJc"
      },
      "source": [
        "ann.compile(optimizer ='adam', loss='binary_crossentropy', metrics=['accuracy'] )"
      ],
      "execution_count": 18,
      "outputs": []
    },
    {
      "cell_type": "code",
      "metadata": {
        "colab": {
          "base_uri": "https://localhost:8080/"
        },
        "id": "WqpS7YyKNJUd",
        "outputId": "b7f958b6-903c-42a1-c112-c76e506fa5f3"
      },
      "source": [
        "ann.summary()"
      ],
      "execution_count": 19,
      "outputs": [
        {
          "output_type": "stream",
          "text": [
            "Model: \"sequential\"\n",
            "_________________________________________________________________\n",
            "Layer (type)                 Output Shape              Param #   \n",
            "=================================================================\n",
            "dense (Dense)                (None, 6)                 48        \n",
            "_________________________________________________________________\n",
            "dense_1 (Dense)              (None, 6)                 42        \n",
            "_________________________________________________________________\n",
            "dense_2 (Dense)              (None, 1)                 7         \n",
            "=================================================================\n",
            "Total params: 97\n",
            "Trainable params: 97\n",
            "Non-trainable params: 0\n",
            "_________________________________________________________________\n"
          ],
          "name": "stdout"
        }
      ]
    },
    {
      "cell_type": "code",
      "metadata": {
        "colab": {
          "base_uri": "https://localhost:8080/"
        },
        "id": "Tb_c7jG1NdqP",
        "outputId": "630e86e3-7d04-4cb0-d2ce-fc657eb1a132"
      },
      "source": [
        "ann.fit(train_norm, train_out, epochs = 10, batch_size=128)"
      ],
      "execution_count": 20,
      "outputs": [
        {
          "output_type": "stream",
          "text": [
            "Epoch 1/10\n",
            "597/597 [==============================] - 1s 1ms/step - loss: 0.6174 - accuracy: 0.7157\n",
            "Epoch 2/10\n",
            "597/597 [==============================] - 1s 1ms/step - loss: 0.1606 - accuracy: 0.9537\n",
            "Epoch 3/10\n",
            "597/597 [==============================] - 1s 1ms/step - loss: 0.1237 - accuracy: 0.9582\n",
            "Epoch 4/10\n",
            "597/597 [==============================] - 1s 1ms/step - loss: 0.1221 - accuracy: 0.9569\n",
            "Epoch 5/10\n",
            "597/597 [==============================] - 1s 1ms/step - loss: 0.1187 - accuracy: 0.9577\n",
            "Epoch 6/10\n",
            "597/597 [==============================] - 1s 1ms/step - loss: 0.1194 - accuracy: 0.9572\n",
            "Epoch 7/10\n",
            "597/597 [==============================] - 1s 1ms/step - loss: 0.1194 - accuracy: 0.9572\n",
            "Epoch 8/10\n",
            "597/597 [==============================] - 1s 1ms/step - loss: 0.1156 - accuracy: 0.9584\n",
            "Epoch 9/10\n",
            "597/597 [==============================] - 1s 1ms/step - loss: 0.1162 - accuracy: 0.9588\n",
            "Epoch 10/10\n",
            "597/597 [==============================] - 1s 1ms/step - loss: 0.1162 - accuracy: 0.9585\n"
          ],
          "name": "stdout"
        },
        {
          "output_type": "execute_result",
          "data": {
            "text/plain": [
              "<tensorflow.python.keras.callbacks.History at 0x7ffae632d748>"
            ]
          },
          "metadata": {
            "tags": []
          },
          "execution_count": 20
        }
      ]
    },
    {
      "cell_type": "markdown",
      "metadata": {
        "id": "Lz_TrROgOVne"
      },
      "source": [
        "## Prediction"
      ]
    },
    {
      "cell_type": "code",
      "metadata": {
        "id": "p4N7Oi0rOLXx"
      },
      "source": [
        "ann_preds = ann.predict(test_norm).ravel()"
      ],
      "execution_count": 21,
      "outputs": []
    },
    {
      "cell_type": "markdown",
      "metadata": {
        "id": "Tr3EPKjnOmnh"
      },
      "source": [
        "## Evaluation of Artificial Neural Network"
      ]
    },
    {
      "cell_type": "code",
      "metadata": {
        "colab": {
          "base_uri": "https://localhost:8080/"
        },
        "id": "oMgROGLHOk8F",
        "outputId": "166e1d04-58ad-4308-cb9e-67ef1dd8feb5"
      },
      "source": [
        "from sklearn.metrics import mean_squared_error, roc_auc_score\n",
        "\n",
        "small_model_auc = roc_auc_score(test_out, ann_preds)\n",
        "small_model_mse = mean_squared_error(test_out, ann_preds)\n",
        "\n",
        "print(f\"AUC: {small_model_auc:0.3f}\")\n",
        "print(f\"MSE: {small_model_mse:0.3f}\")\n"
      ],
      "execution_count": 23,
      "outputs": [
        {
          "output_type": "stream",
          "text": [
            "AUC: 0.929\n",
            "MSE: 0.034\n"
          ],
          "name": "stdout"
        }
      ]
    },
    {
      "cell_type": "code",
      "metadata": {
        "id": "hBjvicoDOFMz"
      },
      "source": [
        ""
      ],
      "execution_count": null,
      "outputs": []
    }
  ]
}